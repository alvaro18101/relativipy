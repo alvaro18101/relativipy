{
 "cells": [
  {
   "cell_type": "markdown",
   "id": "18556563-ca56-485f-ab31-ee6766e2448b",
   "metadata": {},
   "source": [
    "# General Relativity: A code for their components"
   ]
  },
  {
   "cell_type": "code",
   "execution_count": 1,
   "id": "d4c9726a-fc04-425b-bfe5-7d15c73bc6af",
   "metadata": {},
   "outputs": [],
   "source": [
    "import sympy as sp\n",
    "from IPython.display import display"
   ]
  },
  {
   "cell_type": "markdown",
   "id": "35977e68-1ae9-4685-bc78-b2c4cbd770ad",
   "metadata": {},
   "source": [
    "## Metric tensor $g_{\\mu\\nu}$"
   ]
  },
  {
   "cell_type": "code",
   "execution_count": 2,
   "id": "6c103b66-296e-46d7-9611-41659c8a59e9",
   "metadata": {},
   "outputs": [],
   "source": [
    "# Dimension of the spacetime\n",
    "n = 3"
   ]
  },
  {
   "cell_type": "code",
   "execution_count": 4,
   "id": "84d63805-c8cc-45a7-88ba-a75b7032d740",
   "metadata": {},
   "outputs": [
    {
     "name": "stdin",
     "output_type": "stream",
     "text": [
      "Enter the coordinate 0 t\n",
      "Enter the coordinate 1 r\n",
      "Enter the coordinate 2 \\phi\n"
     ]
    },
    {
     "data": {
      "text/latex": [
       "$\\displaystyle \\left[\\begin{matrix}t & r & \\phi\\end{matrix}\\right]$"
      ],
      "text/plain": [
       "Matrix([[t, r, \\phi]])"
      ]
     },
     "execution_count": 4,
     "metadata": {},
     "output_type": "execute_result"
    }
   ],
   "source": [
    "coordinates = []\n",
    "for i in range(n):\n",
    "    coordinate = sp.Symbol(input(f'Enter the coordinate {i}'))\n",
    "    coordinates.append(coordinate)\n",
    "coordinates_sym = sp.Matrix([coordinates])\n",
    "coordinates_sym"
   ]
  },
  {
   "cell_type": "code",
   "execution_count": 5,
   "id": "0b7f8a99-2a4d-42b4-8a63-42eee2f2d047",
   "metadata": {},
   "outputs": [],
   "source": [
    "t = sp.Symbol('t')\n",
    "r = sp.Symbol('r')\n",
    "# theta = sp.Symbol('\\\\theta')\n",
    "phi = sp.Symbol('\\\\phi')"
   ]
  },
  {
   "cell_type": "code",
   "execution_count": 66,
   "id": "07ff6c44-af00-43d2-8910-f29200d7bd9e",
   "metadata": {
    "collapsed": true,
    "jupyter": {
     "outputs_hidden": true,
     "source_hidden": true
    }
   },
   "outputs": [
    {
     "name": "stdout",
     "output_type": "stream",
     "text": [
      "[2, 10]\n"
     ]
    },
    {
     "data": {
      "text/plain": [
       "12"
      ]
     },
     "execution_count": 66,
     "metadata": {},
     "output_type": "execute_result"
    }
   ],
   "source": [
    "# No run\n",
    "symbol = '-x^2/(x+2)^3'\n",
    "array = ['+', '-', '*', '/', '^', 'sin', 'cos', 'tan', 'ctg', 'sec', 'csc']\n",
    "if set(symbol) & set(array):\n",
    "    # Power\n",
    "    if '^' in symbol:\n",
    "        # Find the indexs\n",
    "        power_indexs = []\n",
    "        for i in range(len(symbol)):\n",
    "            if symbol[i] == '^':\n",
    "                power_indexs.append(i)\n",
    "                for j in range(len(symbol.count('^'))):\n",
    "                    if (symbol[power_indexs[j]+1] != '('):\n",
    "                        exponent = symbol[power_indexs[j]+1]\n",
    "        \n",
    "else:\n",
    "    symbol = sp.Symbol(symbol)\n",
    "print(power_indexs)"
   ]
  },
  {
   "cell_type": "code",
   "execution_count": 136,
   "id": "8ac3b187-322c-42eb-a08f-8712cf84de48",
   "metadata": {
    "jupyter": {
     "source_hidden": true
    }
   },
   "outputs": [
    {
     "name": "stdin",
     "output_type": "stream",
     "text": [
      "Enter the component g_00:  -r\n",
      "Enter the component g_01:  0\n",
      "Enter the component g_10:  0\n",
      "Enter the component g_11:  r\n"
     ]
    },
    {
     "data": {
      "text/latex": [
       "$\\displaystyle \\left[\\begin{matrix}- r & 0\\\\0 & r\\end{matrix}\\right]$"
      ],
      "text/plain": [
       "Matrix([\n",
       "[-r, 0],\n",
       "[ 0, r]])"
      ]
     },
     "execution_count": 136,
     "metadata": {},
     "output_type": "execute_result"
    }
   ],
   "source": [
    "# No run\n",
    "is_symmetrical = True\n",
    "g = []\n",
    "for i in range(n):\n",
    "    g_row = []\n",
    "    for j in range(n):\n",
    "        g_ij = input(f'Enter the component g_{i}{j}: ')\n",
    "        try:\n",
    "            float(g_ij)\n",
    "            is_number = True\n",
    "        except:\n",
    "            is_number = False\n",
    "        if (is_number == False):\n",
    "            if '-' in g_ij:\n",
    "                g_ij = -sp.Symbol(g_ij.replace('-',''))\n",
    "            \n",
    "            else:\n",
    "                g_ij = sp.Symbol(g_ij)\n",
    "        g_row.append(g_ij)\n",
    "    g.append(g_row)\n",
    "g\n",
    "g_sym = sp.Matrix(g)\n",
    "g_sym"
   ]
  },
  {
   "cell_type": "code",
   "execution_count": 7,
   "id": "f0e85af4-26ba-4ecd-9a5e-ee0ae121aa14",
   "metadata": {},
   "outputs": [],
   "source": [
    "r_p = sp.Symbol('r_{+}')\n",
    "r_m = sp.Symbol('r_{-}')\n",
    "l = sp.Symbol('l')"
   ]
  },
  {
   "cell_type": "code",
   "execution_count": 10,
   "id": "5f20143f-bf2a-4659-b084-e8bf31722558",
   "metadata": {},
   "outputs": [],
   "source": [
    "a = (r_m**2 + r_p**2 - r**2)/l**2\n",
    "b = l**2*r**2/((r**2 - r_p**2)*(r**2 - r_m**2))\n",
    "c = -2*r_p*r_m/l"
   ]
  },
  {
   "cell_type": "markdown",
   "id": "275b5841-e85c-41b6-8fb1-61784e5b47ea",
   "metadata": {},
   "source": [
    "Here we define $g_{\\mu\\nu}$"
   ]
  },
  {
   "cell_type": "code",
   "execution_count": 11,
   "id": "81d1a59a-0a7f-40ca-803a-4167b3e9a4d2",
   "metadata": {},
   "outputs": [
    {
     "data": {
      "text/latex": [
       "$\\displaystyle \\left[\\begin{matrix}\\frac{- r^{2} + r_{+}^{2} + r_{-}^{2}}{l^{2}} & 0 & - \\frac{2 r_{+} r_{-}}{l}\\\\0 & \\frac{l^{2} r^{2}}{\\left(r^{2} - r_{+}^{2}\\right) \\left(r^{2} - r_{-}^{2}\\right)} & 0\\\\- \\frac{2 r_{+} r_{-}}{l} & 0 & r^{2}\\end{matrix}\\right]$"
      ],
      "text/plain": [
       "Matrix([\n",
       "[(-r**2 + r_{+}**2 + r_{-}**2)/l**2,                                               0, -2*r_{+}*r_{-}/l],\n",
       "[                                 0, l**2*r**2/((r**2 - r_{+}**2)*(r**2 - r_{-}**2)),                0],\n",
       "[                  -2*r_{+}*r_{-}/l,                                               0,             r**2]])"
      ]
     },
     "execution_count": 11,
     "metadata": {},
     "output_type": "execute_result"
    }
   ],
   "source": [
    "# f = sp.Function('f')(r)\n",
    "# G = sp.Symbol('G')\n",
    "# M = sp.Symbol('M')\n",
    "# f = 1 - 2*G*M/r\n",
    "g = [[a , 0, c],\n",
    "    [0, b, 0],\n",
    "    [c, 0, r**2]]\n",
    "g_sym = sp.Matrix(g)\n",
    "g_sym"
   ]
  },
  {
   "cell_type": "markdown",
   "id": "c66988ec-bb9a-42da-8a92-843be3fb7957",
   "metadata": {},
   "source": [
    "Here we define $g^{\\mu\\nu}$"
   ]
  },
  {
   "cell_type": "code",
   "execution_count": 13,
   "id": "01939bdc-0959-4a05-a4cc-797142c12571",
   "metadata": {},
   "outputs": [
    {
     "data": {
      "text/latex": [
       "$\\displaystyle \\left[\\begin{matrix}- \\frac{l^{2} r^{2}}{r^{4} - r^{2} r_{+}^{2} - r^{2} r_{-}^{2} + 4 r_{+}^{2} r_{-}^{2}} & 0 & - \\frac{2 l r_{+} r_{-}}{r^{4} - r^{2} r_{+}^{2} - r^{2} r_{-}^{2} + 4 r_{+}^{2} r_{-}^{2}}\\\\0 & \\frac{r^{4} - r^{2} r_{+}^{2} - r^{2} r_{-}^{2} + r_{+}^{2} r_{-}^{2}}{l^{2} r^{2}} & 0\\\\- \\frac{2 l r_{+} r_{-}}{r^{4} - r^{2} r_{+}^{2} - r^{2} r_{-}^{2} + 4 r_{+}^{2} r_{-}^{2}} & 0 & \\frac{r^{2} - r_{+}^{2} - r_{-}^{2}}{r^{4} - r^{2} r_{+}^{2} - r^{2} r_{-}^{2} + 4 r_{+}^{2} r_{-}^{2}}\\end{matrix}\\right]$"
      ],
      "text/plain": [
       "Matrix([\n",
       "[      -l**2*r**2/(r**4 - r**2*r_{+}**2 - r**2*r_{-}**2 + 4*r_{+}**2*r_{-}**2),                                                                      0,             -2*l*r_{+}*r_{-}/(r**4 - r**2*r_{+}**2 - r**2*r_{-}**2 + 4*r_{+}**2*r_{-}**2)],\n",
       "[                                                                            0, (r**4 - r**2*r_{+}**2 - r**2*r_{-}**2 + r_{+}**2*r_{-}**2)/(l**2*r**2),                                                                                         0],\n",
       "[-2*l*r_{+}*r_{-}/(r**4 - r**2*r_{+}**2 - r**2*r_{-}**2 + 4*r_{+}**2*r_{-}**2),                                                                      0, (r**2 - r_{+}**2 - r_{-}**2)/(r**4 - r**2*r_{+}**2 - r**2*r_{-}**2 + 4*r_{+}**2*r_{-}**2)]])"
      ]
     },
     "metadata": {},
     "output_type": "display_data"
    }
   ],
   "source": [
    "g_inverse = g_sym.inv()\n",
    "display(g_inverse)"
   ]
  },
  {
   "cell_type": "markdown",
   "id": "9c49ceae-48c9-4532-a99f-de8dab18fcd3",
   "metadata": {},
   "source": [
    "## Christofell symbols $\\Gamma^{\\lambda}_{\\mu\\nu}$"
   ]
  },
  {
   "cell_type": "markdown",
   "id": "df32dc11-d1e4-468e-a61d-d1d514b7aba1",
   "metadata": {},
   "source": [
    "Expression of the Christofell symbols"
   ]
  },
  {
   "cell_type": "code",
   "execution_count": 16,
   "id": "e22bdb57-e4b0-45fd-ae51-621889da0862",
   "metadata": {},
   "outputs": [
    {
     "data": {
      "text/latex": [
       "$\\displaystyle \\Gamma^1_{01} =  \\frac12 g^{1\\sigma} \\left(- \\frac{d}{d x^{\\sigma}} g_{01} + \\frac{d}{d r} g_{0\\sigma} + \\frac{d}{d t} g_{1\\sigma}\\right)$"
      ],
      "text/plain": [
       "\\Gamma^1_{01} =  \\frac12*g^{1\\sigma}*(-Derivative(g_{01}, x^\\sigma) + Derivative(g_{0\\sigma}, r) + Derivative(g_{1\\sigma}, t))"
      ]
     },
     "execution_count": 16,
     "metadata": {},
     "output_type": "execute_result"
    }
   ],
   "source": [
    "def christoffel_symbol(lmbd,mu,nu):\n",
    "    g_component = lambda nu, sigma: sp.Symbol(f'g_{{{nu}{sigma}}}')\n",
    "    g_component_up = lambda nu, sigma: sp.Symbol(f'g^{{{nu}{sigma}}}')\n",
    "    christoffel_component_1 = lambda mu, nu: sp.Derivative(g_component(nu, sp.Symbol('\\\\sigma')), coordinates_sym[mu])\n",
    "    christoffel_component_2 = lambda mu, nu: sp.Derivative(g_component(mu, sp.Symbol('\\\\sigma')), coordinates_sym[nu])\n",
    "    christoffel_component_3 = lambda mu, nu: sp.Derivative(g_component(mu, nu), sp.Symbol('x^\\\\sigma'))\n",
    "    return sp.Symbol(f'\\\\Gamma^{lmbd}_{{{mu}{nu}}} =  \\\\frac{1}{2}')*g_component_up(lmbd, sp.Symbol('\\\\sigma'))*(christoffel_component_1(mu,nu) + christoffel_component_2(mu,nu) - christoffel_component_3(mu,nu))\n",
    "christoffel_symbol(1,0,1)"
   ]
  },
  {
   "cell_type": "markdown",
   "id": "80a5f959-fbc9-49f4-b580-794541141723",
   "metadata": {},
   "source": [
    "Computing of Christofell symbols"
   ]
  },
  {
   "cell_type": "code",
   "execution_count": 17,
   "id": "6a847cfe-4897-4eb1-8dbc-f82eeccb4b06",
   "metadata": {},
   "outputs": [],
   "source": [
    "def christoffel_symbol_computing(lmbd,mu,nu):\n",
    "    index = lambda i,j: i*n + j\n",
    "    sum = 0\n",
    "    for i in range(n):\n",
    "        sum = sum + g_inverse[index(lmbd,i)]*( sp.diff(g_sym[index(nu,i)], coordinates_sym[mu]) + sp.diff(g_sym[index(mu,i)], coordinates_sym[nu]) - sp.diff(g_sym[index(mu,nu)], coordinates_sym[i]) )/2\n",
    "    return sum"
   ]
  },
  {
   "cell_type": "code",
   "execution_count": 35,
   "id": "83965ee1-a874-4466-8884-cdad17801137",
   "metadata": {},
   "outputs": [
    {
     "data": {
      "text/latex": [
       "$\\displaystyle \\Gamma^0_{01} = \\frac{r^{3}}{r^{4} - r^{2} r_{+}^{2} - r^{2} r_{-}^{2} + 4 r_{+}^{2} r_{-}^{2}}$"
      ],
      "text/plain": [
       "Eq(\\Gamma^0_{01}, r**3/(r**4 - r**2*r_{+}**2 - r**2*r_{-}**2 + 4*r_{+}**2*r_{-}**2))"
      ]
     },
     "metadata": {},
     "output_type": "display_data"
    },
    {
     "data": {
      "text/latex": [
       "$\\displaystyle \\Gamma^0_{10} = \\frac{r^{3}}{r^{4} - r^{2} r_{+}^{2} - r^{2} r_{-}^{2} + 4 r_{+}^{2} r_{-}^{2}}$"
      ],
      "text/plain": [
       "Eq(\\Gamma^0_{10}, r**3/(r**4 - r**2*r_{+}**2 - r**2*r_{-}**2 + 4*r_{+}**2*r_{-}**2))"
      ]
     },
     "metadata": {},
     "output_type": "display_data"
    },
    {
     "data": {
      "text/latex": [
       "$\\displaystyle \\Gamma^0_{12} = - \\frac{2 l r r_{+} r_{-}}{r^{4} - r^{2} r_{+}^{2} - r^{2} r_{-}^{2} + 4 r_{+}^{2} r_{-}^{2}}$"
      ],
      "text/plain": [
       "Eq(\\Gamma^0_{12}, -2*l*r*r_{+}*r_{-}/(r**4 - r**2*r_{+}**2 - r**2*r_{-}**2 + 4*r_{+}**2*r_{-}**2))"
      ]
     },
     "metadata": {},
     "output_type": "display_data"
    },
    {
     "data": {
      "text/latex": [
       "$\\displaystyle \\Gamma^0_{21} = - \\frac{2 l r r_{+} r_{-}}{r^{4} - r^{2} r_{+}^{2} - r^{2} r_{-}^{2} + 4 r_{+}^{2} r_{-}^{2}}$"
      ],
      "text/plain": [
       "Eq(\\Gamma^0_{21}, -2*l*r*r_{+}*r_{-}/(r**4 - r**2*r_{+}**2 - r**2*r_{-}**2 + 4*r_{+}**2*r_{-}**2))"
      ]
     },
     "metadata": {},
     "output_type": "display_data"
    },
    {
     "data": {
      "text/latex": [
       "$\\displaystyle \\Gamma^1_{00} = \\frac{r^{4} - r^{2} r_{+}^{2} - r^{2} r_{-}^{2} + r_{+}^{2} r_{-}^{2}}{l^{4} r}$"
      ],
      "text/plain": [
       "Eq(\\Gamma^1_{00}, (r**4 - r**2*r_{+}**2 - r**2*r_{-}**2 + r_{+}**2*r_{-}**2)/(l**4*r))"
      ]
     },
     "metadata": {},
     "output_type": "display_data"
    },
    {
     "data": {
      "text/latex": [
       "$\\displaystyle \\Gamma^1_{11} = \\frac{- r^{4} + r_{+}^{2} r_{-}^{2}}{r \\left(r^{4} - r^{2} r_{+}^{2} - r^{2} r_{-}^{2} + r_{+}^{2} r_{-}^{2}\\right)}$"
      ],
      "text/plain": [
       "Eq(\\Gamma^1_{11}, (-r**4 + r_{+}**2*r_{-}**2)/(r*(r**4 - r**2*r_{+}**2 - r**2*r_{-}**2 + r_{+}**2*r_{-}**2)))"
      ]
     },
     "metadata": {},
     "output_type": "display_data"
    },
    {
     "data": {
      "text/latex": [
       "$\\displaystyle \\Gamma^1_{22} = \\frac{- r^{4} + r^{2} r_{+}^{2} + r^{2} r_{-}^{2} - r_{+}^{2} r_{-}^{2}}{l^{2} r}$"
      ],
      "text/plain": [
       "Eq(\\Gamma^1_{22}, (-r**4 + r**2*r_{+}**2 + r**2*r_{-}**2 - r_{+}**2*r_{-}**2)/(l**2*r))"
      ]
     },
     "metadata": {},
     "output_type": "display_data"
    },
    {
     "data": {
      "text/latex": [
       "$\\displaystyle \\Gamma^2_{01} = \\frac{2 r r_{+} r_{-}}{l \\left(r^{4} - r^{2} r_{+}^{2} - r^{2} r_{-}^{2} + 4 r_{+}^{2} r_{-}^{2}\\right)}$"
      ],
      "text/plain": [
       "Eq(\\Gamma^2_{01}, 2*r*r_{+}*r_{-}/(l*(r**4 - r**2*r_{+}**2 - r**2*r_{-}**2 + 4*r_{+}**2*r_{-}**2)))"
      ]
     },
     "metadata": {},
     "output_type": "display_data"
    },
    {
     "data": {
      "text/latex": [
       "$\\displaystyle \\Gamma^2_{10} = \\frac{2 r r_{+} r_{-}}{l \\left(r^{4} - r^{2} r_{+}^{2} - r^{2} r_{-}^{2} + 4 r_{+}^{2} r_{-}^{2}\\right)}$"
      ],
      "text/plain": [
       "Eq(\\Gamma^2_{10}, 2*r*r_{+}*r_{-}/(l*(r**4 - r**2*r_{+}**2 - r**2*r_{-}**2 + 4*r_{+}**2*r_{-}**2)))"
      ]
     },
     "metadata": {},
     "output_type": "display_data"
    },
    {
     "data": {
      "text/latex": [
       "$\\displaystyle \\Gamma^2_{12} = \\frac{r \\left(r^{2} - r_{+}^{2} - r_{-}^{2}\\right)}{r^{4} - r^{2} r_{+}^{2} - r^{2} r_{-}^{2} + 4 r_{+}^{2} r_{-}^{2}}$"
      ],
      "text/plain": [
       "Eq(\\Gamma^2_{12}, r*(r**2 - r_{+}**2 - r_{-}**2)/(r**4 - r**2*r_{+}**2 - r**2*r_{-}**2 + 4*r_{+}**2*r_{-}**2))"
      ]
     },
     "metadata": {},
     "output_type": "display_data"
    },
    {
     "data": {
      "text/latex": [
       "$\\displaystyle \\Gamma^2_{21} = \\frac{r \\left(r^{2} - r_{+}^{2} - r_{-}^{2}\\right)}{r^{4} - r^{2} r_{+}^{2} - r^{2} r_{-}^{2} + 4 r_{+}^{2} r_{-}^{2}}$"
      ],
      "text/plain": [
       "Eq(\\Gamma^2_{21}, r*(r**2 - r_{+}**2 - r_{-}**2)/(r**4 - r**2*r_{+}**2 - r**2*r_{-}**2 + 4*r_{+}**2*r_{-}**2))"
      ]
     },
     "metadata": {},
     "output_type": "display_data"
    },
    {
     "name": "stdout",
     "output_type": "stream",
     "text": [
      "\n",
      "Number of non-zero components: 11\n"
     ]
    }
   ],
   "source": [
    "counter = 0\n",
    "for i in range(n):\n",
    "    for j in range(n):\n",
    "        for k in range(n):\n",
    "            christoffel_component = christoffel_symbol_computing(i,j,k)\n",
    "            if christoffel_component != 0:\n",
    "                gamma = sp.Symbol(f'\\\\Gamma^{i}_{{{j}{k}}}')\n",
    "                display(sp.Eq(sp.Symbol(f'\\\\Gamma^{i}_{{{j}{k}}}'), sp.simplify(christoffel_component)))\n",
    "                counter += 1\n",
    "print(f'\\nNumber of non-zero components: {counter}')"
   ]
  },
  {
   "cell_type": "markdown",
   "id": "8baccd47-8dee-414c-b958-11b399e1a0b8",
   "metadata": {},
   "source": [
    "## Riemann tensor $R^{\\mu}_{\\nu\\rho\\sigma}$"
   ]
  },
  {
   "cell_type": "code",
   "execution_count": 19,
   "id": "5e139d3a-d115-422d-88d3-328309c6cede",
   "metadata": {},
   "outputs": [],
   "source": [
    "def riemann_tensor_computing(mu, nu, rho, sigma):\n",
    "    riemann_tensor_1 = sp.diff(christoffel_symbol_computing(mu,nu,sigma), coordinates_sym[rho])\n",
    "    riemann_tensor_2 = sp.diff(christoffel_symbol_computing(mu,nu,rho), coordinates_sym[sigma])\n",
    "    riemann_tensor_3 = 0\n",
    "    for lmbd in range(n):\n",
    "        riemann_tensor_3 = riemann_tensor_3 + christoffel_symbol_computing(mu,rho,lmbd)*christoffel_symbol_computing(lmbd,nu,sigma)\n",
    "    riemann_tensor_4 = 0\n",
    "    for lmbd in range(n):\n",
    "        riemann_tensor_4 = riemann_tensor_4 + christoffel_symbol_computing(mu,sigma,lmbd)*christoffel_symbol_computing(lmbd,nu,rho)\n",
    "    return riemann_tensor_1 - riemann_tensor_2 + riemann_tensor_3 - riemann_tensor_4"
   ]
  },
  {
   "cell_type": "code",
   "execution_count": 34,
   "id": "6d949d7f-2ced-4934-b39a-4fb63228c9d0",
   "metadata": {},
   "outputs": [
    {
     "data": {
      "text/latex": [
       "$\\displaystyle R^0_{002} = \\frac{2 r_{+} r_{-} \\left(r^{4} - r^{2} r_{+}^{2} - r^{2} r_{-}^{2} + r_{+}^{2} r_{-}^{2}\\right)}{l^{3} \\left(r^{4} - r^{2} r_{+}^{2} - r^{2} r_{-}^{2} + 4 r_{+}^{2} r_{-}^{2}\\right)}$"
      ],
      "text/plain": [
       "Eq(R^0_{002}, 2*r_{+}*r_{-}*(r**4 - r**2*r_{+}**2 - r**2*r_{-}**2 + r_{+}**2*r_{-}**2)/(l**3*(r**4 - r**2*r_{+}**2 - r**2*r_{-}**2 + 4*r_{+}**2*r_{-}**2)))"
      ]
     },
     "metadata": {},
     "output_type": "display_data"
    },
    {
     "data": {
      "text/latex": [
       "$\\displaystyle R^0_{020} = \\frac{2 r_{+} r_{-} \\left(- r^{4} + r^{2} r_{+}^{2} + r^{2} r_{-}^{2} - r_{+}^{2} r_{-}^{2}\\right)}{l^{3} \\left(r^{4} - r^{2} r_{+}^{2} - r^{2} r_{-}^{2} + 4 r_{+}^{2} r_{-}^{2}\\right)}$"
      ],
      "text/plain": [
       "Eq(R^0_{020}, 2*r_{+}*r_{-}*(-r**4 + r**2*r_{+}**2 + r**2*r_{-}**2 - r_{+}**2*r_{-}**2)/(l**3*(r**4 - r**2*r_{+}**2 - r**2*r_{-}**2 + 4*r_{+}**2*r_{-}**2)))"
      ]
     },
     "metadata": {},
     "output_type": "display_data"
    },
    {
     "data": {
      "text/latex": [
       "$\\displaystyle R^0_{101} = \\frac{r^{2} \\left(\\left(r^{2} - r_{+}^{2}\\right)^{2} \\left(r^{2} - r_{-}^{2}\\right)^{2} \\left(- r^{4} + 2 r^{2} \\left(2 r^{2} - r_{+}^{2} - r_{-}^{2}\\right) + 4 r_{+}^{2} r_{-}^{2}\\right) - 3 \\left(r^{2} - r_{+}^{2}\\right)^{2} \\left(r^{2} - r_{-}^{2}\\right)^{2} \\left(r^{4} - r^{2} r_{+}^{2} - r^{2} r_{-}^{2} + 4 r_{+}^{2} r_{-}^{2}\\right) - \\left(r^{2} \\left(r^{2} - r_{+}^{2}\\right) + r^{2} \\left(r^{2} - r_{-}^{2}\\right) - \\left(r^{2} - r_{+}^{2}\\right) \\left(r^{2} - r_{-}^{2}\\right)\\right) \\left(r^{4} - r^{2} r_{+}^{2} - r^{2} r_{-}^{2} + r_{+}^{2} r_{-}^{2}\\right) \\left(r^{4} - r^{2} r_{+}^{2} - r^{2} r_{-}^{2} + 4 r_{+}^{2} r_{-}^{2}\\right)\\right)}{\\left(r^{2} - r_{+}^{2}\\right)^{2} \\left(r^{2} - r_{-}^{2}\\right)^{2} \\left(r^{4} - r^{2} r_{+}^{2} - r^{2} r_{-}^{2} + 4 r_{+}^{2} r_{-}^{2}\\right)^{2}}$"
      ],
      "text/plain": [
       "Eq(R^0_{101}, r**2*((r**2 - r_{+}**2)**2*(r**2 - r_{-}**2)**2*(-r**4 + 2*r**2*(2*r**2 - r_{+}**2 - r_{-}**2) + 4*r_{+}**2*r_{-}**2) - 3*(r**2 - r_{+}**2)**2*(r**2 - r_{-}**2)**2*(r**4 - r**2*r_{+}**2 - r**2*r_{-}**2 + 4*r_{+}**2*r_{-}**2) - (r**2*(r**2 - r_{+}**2) + r**2*(r**2 - r_{-}**2) - (r**2 - r_{+}**2)*(r**2 - r_{-}**2))*(r**4 - r**2*r_{+}**2 - r**2*r_{-}**2 + r_{+}**2*r_{-}**2)*(r**4 - r**2*r_{+}**2 - r**2*r_{-}**2 + 4*r_{+}**2*r_{-}**2))/((r**2 - r_{+}**2)**2*(r**2 - r_{-}**2)**2*(r**4 - r**2*r_{+}**2 - r**2*r_{-}**2 + 4*r_{+}**2*r_{-}**2)**2))"
      ]
     },
     "metadata": {},
     "output_type": "display_data"
    },
    {
     "data": {
      "text/latex": [
       "$\\displaystyle R^0_{110} = \\frac{r^{2} \\left(\\left(r^{2} - r_{+}^{2}\\right)^{2} \\left(r^{2} - r_{-}^{2}\\right)^{2} \\left(r^{4} + 2 r^{2} \\left(- 2 r^{2} + r_{+}^{2} + r_{-}^{2}\\right) - 4 r_{+}^{2} r_{-}^{2}\\right) + 3 \\left(r^{2} - r_{+}^{2}\\right)^{2} \\left(r^{2} - r_{-}^{2}\\right)^{2} \\left(r^{4} - r^{2} r_{+}^{2} - r^{2} r_{-}^{2} + 4 r_{+}^{2} r_{-}^{2}\\right) + \\left(r^{2} \\left(r^{2} - r_{+}^{2}\\right) + r^{2} \\left(r^{2} - r_{-}^{2}\\right) - \\left(r^{2} - r_{+}^{2}\\right) \\left(r^{2} - r_{-}^{2}\\right)\\right) \\left(r^{4} - r^{2} r_{+}^{2} - r^{2} r_{-}^{2} + r_{+}^{2} r_{-}^{2}\\right) \\left(r^{4} - r^{2} r_{+}^{2} - r^{2} r_{-}^{2} + 4 r_{+}^{2} r_{-}^{2}\\right)\\right)}{\\left(r^{2} - r_{+}^{2}\\right)^{2} \\left(r^{2} - r_{-}^{2}\\right)^{2} \\left(r^{4} - r^{2} r_{+}^{2} - r^{2} r_{-}^{2} + 4 r_{+}^{2} r_{-}^{2}\\right)^{2}}$"
      ],
      "text/plain": [
       "Eq(R^0_{110}, r**2*((r**2 - r_{+}**2)**2*(r**2 - r_{-}**2)**2*(r**4 + 2*r**2*(-2*r**2 + r_{+}**2 + r_{-}**2) - 4*r_{+}**2*r_{-}**2) + 3*(r**2 - r_{+}**2)**2*(r**2 - r_{-}**2)**2*(r**4 - r**2*r_{+}**2 - r**2*r_{-}**2 + 4*r_{+}**2*r_{-}**2) + (r**2*(r**2 - r_{+}**2) + r**2*(r**2 - r_{-}**2) - (r**2 - r_{+}**2)*(r**2 - r_{-}**2))*(r**4 - r**2*r_{+}**2 - r**2*r_{-}**2 + r_{+}**2*r_{-}**2)*(r**4 - r**2*r_{+}**2 - r**2*r_{-}**2 + 4*r_{+}**2*r_{-}**2))/((r**2 - r_{+}**2)**2*(r**2 - r_{-}**2)**2*(r**4 - r**2*r_{+}**2 - r**2*r_{-}**2 + 4*r_{+}**2*r_{-}**2)**2))"
      ]
     },
     "metadata": {},
     "output_type": "display_data"
    },
    {
     "data": {
      "text/latex": [
       "$\\displaystyle R^0_{112} = \\frac{6 l r^{2} r_{+}^{3} r_{-}^{3} \\left(- 2 r^{2} + r_{+}^{2} + r_{-}^{2}\\right)}{r^{12} - 3 r^{10} r_{+}^{2} - 3 r^{10} r_{-}^{2} + 3 r^{8} r_{+}^{4} + 15 r^{8} r_{+}^{2} r_{-}^{2} + 3 r^{8} r_{-}^{4} - r^{6} r_{+}^{6} - 21 r^{6} r_{+}^{4} r_{-}^{2} - 21 r^{6} r_{+}^{2} r_{-}^{4} - r^{6} r_{-}^{6} + 9 r^{4} r_{+}^{6} r_{-}^{2} + 42 r^{4} r_{+}^{4} r_{-}^{4} + 9 r^{4} r_{+}^{2} r_{-}^{6} - 24 r^{2} r_{+}^{6} r_{-}^{4} - 24 r^{2} r_{+}^{4} r_{-}^{6} + 16 r_{+}^{6} r_{-}^{6}}$"
      ],
      "text/plain": [
       "Eq(R^0_{112}, 6*l*r**2*r_{+}**3*r_{-}**3*(-2*r**2 + r_{+}**2 + r_{-}**2)/(r**12 - 3*r**10*r_{+}**2 - 3*r**10*r_{-}**2 + 3*r**8*r_{+}**4 + 15*r**8*r_{+}**2*r_{-}**2 + 3*r**8*r_{-}**4 - r**6*r_{+}**6 - 21*r**6*r_{+}**4*r_{-}**2 - 21*r**6*r_{+}**2*r_{-}**4 - r**6*r_{-}**6 + 9*r**4*r_{+}**6*r_{-}**2 + 42*r**4*r_{+}**4*r_{-}**4 + 9*r**4*r_{+}**2*r_{-}**6 - 24*r**2*r_{+}**6*r_{-}**4 - 24*r**2*r_{+}**4*r_{-}**6 + 16*r_{+}**6*r_{-}**6))"
      ]
     },
     "metadata": {},
     "output_type": "display_data"
    },
    {
     "data": {
      "text/latex": [
       "$\\displaystyle R^0_{121} = \\frac{6 l r^{2} r_{+}^{3} r_{-}^{3} \\left(2 r^{2} - r_{+}^{2} - r_{-}^{2}\\right)}{r^{12} - 3 r^{10} r_{+}^{2} - 3 r^{10} r_{-}^{2} + 3 r^{8} r_{+}^{4} + 15 r^{8} r_{+}^{2} r_{-}^{2} + 3 r^{8} r_{-}^{4} - r^{6} r_{+}^{6} - 21 r^{6} r_{+}^{4} r_{-}^{2} - 21 r^{6} r_{+}^{2} r_{-}^{4} - r^{6} r_{-}^{6} + 9 r^{4} r_{+}^{6} r_{-}^{2} + 42 r^{4} r_{+}^{4} r_{-}^{4} + 9 r^{4} r_{+}^{2} r_{-}^{6} - 24 r^{2} r_{+}^{6} r_{-}^{4} - 24 r^{2} r_{+}^{4} r_{-}^{6} + 16 r_{+}^{6} r_{-}^{6}}$"
      ],
      "text/plain": [
       "Eq(R^0_{121}, 6*l*r**2*r_{+}**3*r_{-}**3*(2*r**2 - r_{+}**2 - r_{-}**2)/(r**12 - 3*r**10*r_{+}**2 - 3*r**10*r_{-}**2 + 3*r**8*r_{+}**4 + 15*r**8*r_{+}**2*r_{-}**2 + 3*r**8*r_{-}**4 - r**6*r_{+}**6 - 21*r**6*r_{+}**4*r_{-}**2 - 21*r**6*r_{+}**2*r_{-}**4 - r**6*r_{-}**6 + 9*r**4*r_{+}**6*r_{-}**2 + 42*r**4*r_{+}**4*r_{-}**4 + 9*r**4*r_{+}**2*r_{-}**6 - 24*r**2*r_{+}**6*r_{-}**4 - 24*r**2*r_{+}**4*r_{-}**6 + 16*r_{+}**6*r_{-}**6))"
      ]
     },
     "metadata": {},
     "output_type": "display_data"
    },
    {
     "data": {
      "text/latex": [
       "$\\displaystyle R^0_{202} = \\frac{r^{2} \\left(- r^{4} + r^{2} r_{+}^{2} + r^{2} r_{-}^{2} - r_{+}^{2} r_{-}^{2}\\right)}{l^{2} \\left(r^{4} - r^{2} r_{+}^{2} - r^{2} r_{-}^{2} + 4 r_{+}^{2} r_{-}^{2}\\right)}$"
      ],
      "text/plain": [
       "Eq(R^0_{202}, r**2*(-r**4 + r**2*r_{+}**2 + r**2*r_{-}**2 - r_{+}**2*r_{-}**2)/(l**2*(r**4 - r**2*r_{+}**2 - r**2*r_{-}**2 + 4*r_{+}**2*r_{-}**2)))"
      ]
     },
     "metadata": {},
     "output_type": "display_data"
    },
    {
     "data": {
      "text/latex": [
       "$\\displaystyle R^0_{220} = \\frac{r^{2} \\left(r^{4} - r^{2} r_{+}^{2} - r^{2} r_{-}^{2} + r_{+}^{2} r_{-}^{2}\\right)}{l^{2} \\left(r^{4} - r^{2} r_{+}^{2} - r^{2} r_{-}^{2} + 4 r_{+}^{2} r_{-}^{2}\\right)}$"
      ],
      "text/plain": [
       "Eq(R^0_{220}, r**2*(r**4 - r**2*r_{+}**2 - r**2*r_{-}**2 + r_{+}**2*r_{-}**2)/(l**2*(r**4 - r**2*r_{+}**2 - r**2*r_{-}**2 + 4*r_{+}**2*r_{-}**2)))"
      ]
     },
     "metadata": {},
     "output_type": "display_data"
    },
    {
     "data": {
      "text/latex": [
       "$\\displaystyle R^1_{001} = \\frac{- r^{6} + 2 r^{4} r_{+}^{2} + 2 r^{4} r_{-}^{2} - r^{2} r_{+}^{4} - 9 r^{2} r_{+}^{2} r_{-}^{2} - r^{2} r_{-}^{4} + 4 r_{+}^{4} r_{-}^{2} + 4 r_{+}^{2} r_{-}^{4}}{l^{4} \\left(r^{4} - r^{2} r_{+}^{2} - r^{2} r_{-}^{2} + 4 r_{+}^{2} r_{-}^{2}\\right)}$"
      ],
      "text/plain": [
       "Eq(R^1_{001}, (-r**6 + 2*r**4*r_{+}**2 + 2*r**4*r_{-}**2 - r**2*r_{+}**4 - 9*r**2*r_{+}**2*r_{-}**2 - r**2*r_{-}**4 + 4*r_{+}**4*r_{-}**2 + 4*r_{+}**2*r_{-}**4)/(l**4*(r**4 - r**2*r_{+}**2 - r**2*r_{-}**2 + 4*r_{+}**2*r_{-}**2)))"
      ]
     },
     "metadata": {},
     "output_type": "display_data"
    },
    {
     "data": {
      "text/latex": [
       "$\\displaystyle R^1_{010} = \\frac{r^{6} - 2 r^{4} r_{+}^{2} - 2 r^{4} r_{-}^{2} + r^{2} r_{+}^{4} + 9 r^{2} r_{+}^{2} r_{-}^{2} + r^{2} r_{-}^{4} - 4 r_{+}^{4} r_{-}^{2} - 4 r_{+}^{2} r_{-}^{4}}{l^{4} \\left(r^{4} - r^{2} r_{+}^{2} - r^{2} r_{-}^{2} + 4 r_{+}^{2} r_{-}^{2}\\right)}$"
      ],
      "text/plain": [
       "Eq(R^1_{010}, (r**6 - 2*r**4*r_{+}**2 - 2*r**4*r_{-}**2 + r**2*r_{+}**4 + 9*r**2*r_{+}**2*r_{-}**2 + r**2*r_{-}**4 - 4*r_{+}**4*r_{-}**2 - 4*r_{+}**2*r_{-}**4)/(l**4*(r**4 - r**2*r_{+}**2 - r**2*r_{-}**2 + 4*r_{+}**2*r_{-}**2)))"
      ]
     },
     "metadata": {},
     "output_type": "display_data"
    },
    {
     "data": {
      "text/latex": [
       "$\\displaystyle R^1_{012} = \\frac{2 r_{+} r_{-} \\left(r^{4} - r^{2} r_{+}^{2} - r^{2} r_{-}^{2} + r_{+}^{2} r_{-}^{2}\\right)}{l^{3} \\left(r^{4} - r^{2} r_{+}^{2} - r^{2} r_{-}^{2} + 4 r_{+}^{2} r_{-}^{2}\\right)}$"
      ],
      "text/plain": [
       "Eq(R^1_{012}, 2*r_{+}*r_{-}*(r**4 - r**2*r_{+}**2 - r**2*r_{-}**2 + r_{+}**2*r_{-}**2)/(l**3*(r**4 - r**2*r_{+}**2 - r**2*r_{-}**2 + 4*r_{+}**2*r_{-}**2)))"
      ]
     },
     "metadata": {},
     "output_type": "display_data"
    },
    {
     "data": {
      "text/latex": [
       "$\\displaystyle R^1_{021} = \\frac{2 r_{+} r_{-} \\left(- r^{4} + r^{2} r_{+}^{2} + r^{2} r_{-}^{2} - r_{+}^{2} r_{-}^{2}\\right)}{l^{3} \\left(r^{4} - r^{2} r_{+}^{2} - r^{2} r_{-}^{2} + 4 r_{+}^{2} r_{-}^{2}\\right)}$"
      ],
      "text/plain": [
       "Eq(R^1_{021}, 2*r_{+}*r_{-}*(-r**4 + r**2*r_{+}**2 + r**2*r_{-}**2 - r_{+}**2*r_{-}**2)/(l**3*(r**4 - r**2*r_{+}**2 - r**2*r_{-}**2 + 4*r_{+}**2*r_{-}**2)))"
      ]
     },
     "metadata": {},
     "output_type": "display_data"
    },
    {
     "data": {
      "text/latex": [
       "$\\displaystyle R^1_{201} = \\frac{2 r_{+} r_{-} \\left(- r^{4} + r^{2} r_{+}^{2} + r^{2} r_{-}^{2} - r_{+}^{2} r_{-}^{2}\\right)}{l^{3} \\left(r^{4} - r^{2} r_{+}^{2} - r^{2} r_{-}^{2} + 4 r_{+}^{2} r_{-}^{2}\\right)}$"
      ],
      "text/plain": [
       "Eq(R^1_{201}, 2*r_{+}*r_{-}*(-r**4 + r**2*r_{+}**2 + r**2*r_{-}**2 - r_{+}**2*r_{-}**2)/(l**3*(r**4 - r**2*r_{+}**2 - r**2*r_{-}**2 + 4*r_{+}**2*r_{-}**2)))"
      ]
     },
     "metadata": {},
     "output_type": "display_data"
    },
    {
     "data": {
      "text/latex": [
       "$\\displaystyle R^1_{210} = \\frac{2 r_{+} r_{-} \\left(r^{4} - r^{2} r_{+}^{2} - r^{2} r_{-}^{2} + r_{+}^{2} r_{-}^{2}\\right)}{l^{3} \\left(r^{4} - r^{2} r_{+}^{2} - r^{2} r_{-}^{2} + 4 r_{+}^{2} r_{-}^{2}\\right)}$"
      ],
      "text/plain": [
       "Eq(R^1_{210}, 2*r_{+}*r_{-}*(r**4 - r**2*r_{+}**2 - r**2*r_{-}**2 + r_{+}**2*r_{-}**2)/(l**3*(r**4 - r**2*r_{+}**2 - r**2*r_{-}**2 + 4*r_{+}**2*r_{-}**2)))"
      ]
     },
     "metadata": {},
     "output_type": "display_data"
    },
    {
     "data": {
      "text/latex": [
       "$\\displaystyle R^1_{212} = \\frac{- r^{6} + r^{4} r_{+}^{2} + r^{4} r_{-}^{2} - 7 r^{2} r_{+}^{2} r_{-}^{2} + 3 r_{+}^{4} r_{-}^{2} + 3 r_{+}^{2} r_{-}^{4}}{l^{2} \\left(r^{4} - r^{2} r_{+}^{2} - r^{2} r_{-}^{2} + 4 r_{+}^{2} r_{-}^{2}\\right)}$"
      ],
      "text/plain": [
       "Eq(R^1_{212}, (-r**6 + r**4*r_{+}**2 + r**4*r_{-}**2 - 7*r**2*r_{+}**2*r_{-}**2 + 3*r_{+}**4*r_{-}**2 + 3*r_{+}**2*r_{-}**4)/(l**2*(r**4 - r**2*r_{+}**2 - r**2*r_{-}**2 + 4*r_{+}**2*r_{-}**2)))"
      ]
     },
     "metadata": {},
     "output_type": "display_data"
    },
    {
     "data": {
      "text/latex": [
       "$\\displaystyle R^1_{221} = \\frac{r^{6} - r^{4} r_{+}^{2} - r^{4} r_{-}^{2} + 7 r^{2} r_{+}^{2} r_{-}^{2} - 3 r_{+}^{4} r_{-}^{2} - 3 r_{+}^{2} r_{-}^{4}}{l^{2} \\left(r^{4} - r^{2} r_{+}^{2} - r^{2} r_{-}^{2} + 4 r_{+}^{2} r_{-}^{2}\\right)}$"
      ],
      "text/plain": [
       "Eq(R^1_{221}, (r**6 - r**4*r_{+}**2 - r**4*r_{-}**2 + 7*r**2*r_{+}**2*r_{-}**2 - 3*r_{+}**4*r_{-}**2 - 3*r_{+}**2*r_{-}**4)/(l**2*(r**4 - r**2*r_{+}**2 - r**2*r_{-}**2 + 4*r_{+}**2*r_{-}**2)))"
      ]
     },
     "metadata": {},
     "output_type": "display_data"
    },
    {
     "data": {
      "text/latex": [
       "$\\displaystyle R^2_{002} = \\frac{\\left(- r^{2} + r_{+}^{2} + r_{-}^{2}\\right) \\left(r^{4} - r^{2} r_{+}^{2} - r^{2} r_{-}^{2} + r_{+}^{2} r_{-}^{2}\\right)}{l^{4} \\left(r^{4} - r^{2} r_{+}^{2} - r^{2} r_{-}^{2} + 4 r_{+}^{2} r_{-}^{2}\\right)}$"
      ],
      "text/plain": [
       "Eq(R^2_{002}, (-r**2 + r_{+}**2 + r_{-}**2)*(r**4 - r**2*r_{+}**2 - r**2*r_{-}**2 + r_{+}**2*r_{-}**2)/(l**4*(r**4 - r**2*r_{+}**2 - r**2*r_{-}**2 + 4*r_{+}**2*r_{-}**2)))"
      ]
     },
     "metadata": {},
     "output_type": "display_data"
    },
    {
     "data": {
      "text/latex": [
       "$\\displaystyle R^2_{020} = - \\frac{\\left(- r^{2} + r_{+}^{2} + r_{-}^{2}\\right) \\left(r^{4} - r^{2} r_{+}^{2} - r^{2} r_{-}^{2} + r_{+}^{2} r_{-}^{2}\\right)}{l^{4} \\left(r^{4} - r^{2} r_{+}^{2} - r^{2} r_{-}^{2} + 4 r_{+}^{2} r_{-}^{2}\\right)}$"
      ],
      "text/plain": [
       "Eq(R^2_{020}, -(-r**2 + r_{+}**2 + r_{-}**2)*(r**4 - r**2*r_{+}**2 - r**2*r_{-}**2 + r_{+}**2*r_{-}**2)/(l**4*(r**4 - r**2*r_{+}**2 - r**2*r_{-}**2 + 4*r_{+}**2*r_{-}**2)))"
      ]
     },
     "metadata": {},
     "output_type": "display_data"
    },
    {
     "data": {
      "text/latex": [
       "$\\displaystyle R^2_{101} = \\frac{6 r^{2} r_{+}^{3} r_{-}^{3} \\left(- 2 r^{2} + r_{+}^{2} + r_{-}^{2}\\right)}{l \\left(r^{12} - 3 r^{10} r_{+}^{2} - 3 r^{10} r_{-}^{2} + 3 r^{8} r_{+}^{4} + 15 r^{8} r_{+}^{2} r_{-}^{2} + 3 r^{8} r_{-}^{4} - r^{6} r_{+}^{6} - 21 r^{6} r_{+}^{4} r_{-}^{2} - 21 r^{6} r_{+}^{2} r_{-}^{4} - r^{6} r_{-}^{6} + 9 r^{4} r_{+}^{6} r_{-}^{2} + 42 r^{4} r_{+}^{4} r_{-}^{4} + 9 r^{4} r_{+}^{2} r_{-}^{6} - 24 r^{2} r_{+}^{6} r_{-}^{4} - 24 r^{2} r_{+}^{4} r_{-}^{6} + 16 r_{+}^{6} r_{-}^{6}\\right)}$"
      ],
      "text/plain": [
       "Eq(R^2_{101}, 6*r**2*r_{+}**3*r_{-}**3*(-2*r**2 + r_{+}**2 + r_{-}**2)/(l*(r**12 - 3*r**10*r_{+}**2 - 3*r**10*r_{-}**2 + 3*r**8*r_{+}**4 + 15*r**8*r_{+}**2*r_{-}**2 + 3*r**8*r_{-}**4 - r**6*r_{+}**6 - 21*r**6*r_{+}**4*r_{-}**2 - 21*r**6*r_{+}**2*r_{-}**4 - r**6*r_{-}**6 + 9*r**4*r_{+}**6*r_{-}**2 + 42*r**4*r_{+}**4*r_{-}**4 + 9*r**4*r_{+}**2*r_{-}**6 - 24*r**2*r_{+}**6*r_{-}**4 - 24*r**2*r_{+}**4*r_{-}**6 + 16*r_{+}**6*r_{-}**6)))"
      ]
     },
     "metadata": {},
     "output_type": "display_data"
    },
    {
     "data": {
      "text/latex": [
       "$\\displaystyle R^2_{110} = \\frac{6 r^{2} r_{+}^{3} r_{-}^{3} \\left(2 r^{2} - r_{+}^{2} - r_{-}^{2}\\right)}{l \\left(r^{12} - 3 r^{10} r_{+}^{2} - 3 r^{10} r_{-}^{2} + 3 r^{8} r_{+}^{4} + 15 r^{8} r_{+}^{2} r_{-}^{2} + 3 r^{8} r_{-}^{4} - r^{6} r_{+}^{6} - 21 r^{6} r_{+}^{4} r_{-}^{2} - 21 r^{6} r_{+}^{2} r_{-}^{4} - r^{6} r_{-}^{6} + 9 r^{4} r_{+}^{6} r_{-}^{2} + 42 r^{4} r_{+}^{4} r_{-}^{4} + 9 r^{4} r_{+}^{2} r_{-}^{6} - 24 r^{2} r_{+}^{6} r_{-}^{4} - 24 r^{2} r_{+}^{4} r_{-}^{6} + 16 r_{+}^{6} r_{-}^{6}\\right)}$"
      ],
      "text/plain": [
       "Eq(R^2_{110}, 6*r**2*r_{+}**3*r_{-}**3*(2*r**2 - r_{+}**2 - r_{-}**2)/(l*(r**12 - 3*r**10*r_{+}**2 - 3*r**10*r_{-}**2 + 3*r**8*r_{+}**4 + 15*r**8*r_{+}**2*r_{-}**2 + 3*r**8*r_{-}**4 - r**6*r_{+}**6 - 21*r**6*r_{+}**4*r_{-}**2 - 21*r**6*r_{+}**2*r_{-}**4 - r**6*r_{-}**6 + 9*r**4*r_{+}**6*r_{-}**2 + 42*r**4*r_{+}**4*r_{-}**4 + 9*r**4*r_{+}**2*r_{-}**6 - 24*r**2*r_{+}**6*r_{-}**4 - 24*r**2*r_{+}**4*r_{-}**6 + 16*r_{+}**6*r_{-}**6)))"
      ]
     },
     "metadata": {},
     "output_type": "display_data"
    },
    {
     "data": {
      "text/latex": [
       "$\\displaystyle R^2_{112} = \\frac{r^{2} \\left(r^{8} - 2 r^{6} r_{+}^{2} - 2 r^{6} r_{-}^{2} + r^{4} r_{+}^{4} + 13 r^{4} r_{+}^{2} r_{-}^{2} + r^{4} r_{-}^{4} - 14 r^{2} r_{+}^{4} r_{-}^{2} - 14 r^{2} r_{+}^{2} r_{-}^{4} + 3 r_{+}^{6} r_{-}^{2} + 10 r_{+}^{4} r_{-}^{4} + 3 r_{+}^{2} r_{-}^{6}\\right)}{r^{12} - 3 r^{10} r_{+}^{2} - 3 r^{10} r_{-}^{2} + 3 r^{8} r_{+}^{4} + 15 r^{8} r_{+}^{2} r_{-}^{2} + 3 r^{8} r_{-}^{4} - r^{6} r_{+}^{6} - 21 r^{6} r_{+}^{4} r_{-}^{2} - 21 r^{6} r_{+}^{2} r_{-}^{4} - r^{6} r_{-}^{6} + 9 r^{4} r_{+}^{6} r_{-}^{2} + 42 r^{4} r_{+}^{4} r_{-}^{4} + 9 r^{4} r_{+}^{2} r_{-}^{6} - 24 r^{2} r_{+}^{6} r_{-}^{4} - 24 r^{2} r_{+}^{4} r_{-}^{6} + 16 r_{+}^{6} r_{-}^{6}}$"
      ],
      "text/plain": [
       "Eq(R^2_{112}, r**2*(r**8 - 2*r**6*r_{+}**2 - 2*r**6*r_{-}**2 + r**4*r_{+}**4 + 13*r**4*r_{+}**2*r_{-}**2 + r**4*r_{-}**4 - 14*r**2*r_{+}**4*r_{-}**2 - 14*r**2*r_{+}**2*r_{-}**4 + 3*r_{+}**6*r_{-}**2 + 10*r_{+}**4*r_{-}**4 + 3*r_{+}**2*r_{-}**6)/(r**12 - 3*r**10*r_{+}**2 - 3*r**10*r_{-}**2 + 3*r**8*r_{+}**4 + 15*r**8*r_{+}**2*r_{-}**2 + 3*r**8*r_{-}**4 - r**6*r_{+}**6 - 21*r**6*r_{+}**4*r_{-}**2 - 21*r**6*r_{+}**2*r_{-}**4 - r**6*r_{-}**6 + 9*r**4*r_{+}**6*r_{-}**2 + 42*r**4*r_{+}**4*r_{-}**4 + 9*r**4*r_{+}**2*r_{-}**6 - 24*r**2*r_{+}**6*r_{-}**4 - 24*r**2*r_{+}**4*r_{-}**6 + 16*r_{+}**6*r_{-}**6))"
      ]
     },
     "metadata": {},
     "output_type": "display_data"
    },
    {
     "data": {
      "text/latex": [
       "$\\displaystyle R^2_{121} = \\frac{r^{2} \\left(- r^{8} + 2 r^{6} r_{+}^{2} + 2 r^{6} r_{-}^{2} - r^{4} r_{+}^{4} - 13 r^{4} r_{+}^{2} r_{-}^{2} - r^{4} r_{-}^{4} + 14 r^{2} r_{+}^{4} r_{-}^{2} + 14 r^{2} r_{+}^{2} r_{-}^{4} - 3 r_{+}^{6} r_{-}^{2} - 10 r_{+}^{4} r_{-}^{4} - 3 r_{+}^{2} r_{-}^{6}\\right)}{r^{12} - 3 r^{10} r_{+}^{2} - 3 r^{10} r_{-}^{2} + 3 r^{8} r_{+}^{4} + 15 r^{8} r_{+}^{2} r_{-}^{2} + 3 r^{8} r_{-}^{4} - r^{6} r_{+}^{6} - 21 r^{6} r_{+}^{4} r_{-}^{2} - 21 r^{6} r_{+}^{2} r_{-}^{4} - r^{6} r_{-}^{6} + 9 r^{4} r_{+}^{6} r_{-}^{2} + 42 r^{4} r_{+}^{4} r_{-}^{4} + 9 r^{4} r_{+}^{2} r_{-}^{6} - 24 r^{2} r_{+}^{6} r_{-}^{4} - 24 r^{2} r_{+}^{4} r_{-}^{6} + 16 r_{+}^{6} r_{-}^{6}}$"
      ],
      "text/plain": [
       "Eq(R^2_{121}, r**2*(-r**8 + 2*r**6*r_{+}**2 + 2*r**6*r_{-}**2 - r**4*r_{+}**4 - 13*r**4*r_{+}**2*r_{-}**2 - r**4*r_{-}**4 + 14*r**2*r_{+}**4*r_{-}**2 + 14*r**2*r_{+}**2*r_{-}**4 - 3*r_{+}**6*r_{-}**2 - 10*r_{+}**4*r_{-}**4 - 3*r_{+}**2*r_{-}**6)/(r**12 - 3*r**10*r_{+}**2 - 3*r**10*r_{-}**2 + 3*r**8*r_{+}**4 + 15*r**8*r_{+}**2*r_{-}**2 + 3*r**8*r_{-}**4 - r**6*r_{+}**6 - 21*r**6*r_{+}**4*r_{-}**2 - 21*r**6*r_{+}**2*r_{-}**4 - r**6*r_{-}**6 + 9*r**4*r_{+}**6*r_{-}**2 + 42*r**4*r_{+}**4*r_{-}**4 + 9*r**4*r_{+}**2*r_{-}**6 - 24*r**2*r_{+}**6*r_{-}**4 - 24*r**2*r_{+}**4*r_{-}**6 + 16*r_{+}**6*r_{-}**6))"
      ]
     },
     "metadata": {},
     "output_type": "display_data"
    },
    {
     "data": {
      "text/latex": [
       "$\\displaystyle R^2_{202} = \\frac{2 r_{+} r_{-} \\left(- r^{4} + r^{2} r_{+}^{2} + r^{2} r_{-}^{2} - r_{+}^{2} r_{-}^{2}\\right)}{l^{3} \\left(r^{4} - r^{2} r_{+}^{2} - r^{2} r_{-}^{2} + 4 r_{+}^{2} r_{-}^{2}\\right)}$"
      ],
      "text/plain": [
       "Eq(R^2_{202}, 2*r_{+}*r_{-}*(-r**4 + r**2*r_{+}**2 + r**2*r_{-}**2 - r_{+}**2*r_{-}**2)/(l**3*(r**4 - r**2*r_{+}**2 - r**2*r_{-}**2 + 4*r_{+}**2*r_{-}**2)))"
      ]
     },
     "metadata": {},
     "output_type": "display_data"
    },
    {
     "data": {
      "text/latex": [
       "$\\displaystyle R^2_{220} = \\frac{2 r_{+} r_{-} \\left(r^{4} - r^{2} r_{+}^{2} - r^{2} r_{-}^{2} + r_{+}^{2} r_{-}^{2}\\right)}{l^{3} \\left(r^{4} - r^{2} r_{+}^{2} - r^{2} r_{-}^{2} + 4 r_{+}^{2} r_{-}^{2}\\right)}$"
      ],
      "text/plain": [
       "Eq(R^2_{220}, 2*r_{+}*r_{-}*(r**4 - r**2*r_{+}**2 - r**2*r_{-}**2 + r_{+}**2*r_{-}**2)/(l**3*(r**4 - r**2*r_{+}**2 - r**2*r_{-}**2 + 4*r_{+}**2*r_{-}**2)))"
      ]
     },
     "metadata": {},
     "output_type": "display_data"
    },
    {
     "name": "stdout",
     "output_type": "stream",
     "text": [
      "\n",
      "Number of non-zero components: 24\n"
     ]
    }
   ],
   "source": [
    "counter = 0\n",
    "for i in range(n):\n",
    "    for j in range(n):\n",
    "        for k in range(n):\n",
    "            for l in range(n):\n",
    "                riemann_component = riemann_tensor_computing(i,j,k,l)\n",
    "                if riemann_component != 0:\n",
    "                    Riemann_symbol = sp.Symbol(f'R^{i}_{{{j}{k}{l}}}')\n",
    "                    display(sp.Eq(Riemann_symbol,sp.simplify(riemann_component)))\n",
    "                    counter += 1\n",
    "print(f'\\nNumber of non-zero components: {counter}')"
   ]
  },
  {
   "cell_type": "markdown",
   "id": "8895ff17-f6f2-49f0-8265-3837f8bb2466",
   "metadata": {},
   "source": [
    "## Ricci tensor $R_{\\nu\\sigma}$"
   ]
  },
  {
   "cell_type": "code",
   "execution_count": 36,
   "id": "e744e5c0-b25a-4edc-b5db-1be3b52941c7",
   "metadata": {},
   "outputs": [],
   "source": [
    "def ricci_tensor_computing(nu, sigma):\n",
    "    sum = 0\n",
    "    for rho in range(n):\n",
    "        sum = sum + riemann_tensor_computing(rho, nu, rho, sigma)\n",
    "    return sum"
   ]
  },
  {
   "cell_type": "code",
   "execution_count": 33,
   "id": "fed889e3-df1a-4b6f-9d7e-cf32c54694bf",
   "metadata": {},
   "outputs": [
    {
     "data": {
      "text/latex": [
       "$\\displaystyle R_{00} = \\frac{2 r^{6} - 4 r^{4} r_{+}^{2} - 4 r^{4} r_{-}^{2} + 2 r^{2} r_{+}^{4} + 12 r^{2} r_{+}^{2} r_{-}^{2} + 2 r^{2} r_{-}^{4} - 5 r_{+}^{4} r_{-}^{2} - 5 r_{+}^{2} r_{-}^{4}}{l^{4} \\left(r^{4} - r^{2} r_{+}^{2} - r^{2} r_{-}^{2} + 4 r_{+}^{2} r_{-}^{2}\\right)}$"
      ],
      "text/plain": [
       "Eq(R_{00}, (2*r**6 - 4*r**4*r_{+}**2 - 4*r**4*r_{-}**2 + 2*r**2*r_{+}**4 + 12*r**2*r_{+}**2*r_{-}**2 + 2*r**2*r_{-}**4 - 5*r_{+}**4*r_{-}**2 - 5*r_{+}**2*r_{-}**4)/(l**4*(r**4 - r**2*r_{+}**2 - r**2*r_{-}**2 + 4*r_{+}**2*r_{-}**2)))"
      ]
     },
     "metadata": {},
     "output_type": "display_data"
    },
    {
     "data": {
      "text/latex": [
       "$\\displaystyle R_{02} = \\frac{4 r_{+} r_{-} \\left(r^{4} - r^{2} r_{+}^{2} - r^{2} r_{-}^{2} + r_{+}^{2} r_{-}^{2}\\right)}{l^{3} \\left(r^{4} - r^{2} r_{+}^{2} - r^{2} r_{-}^{2} + 4 r_{+}^{2} r_{-}^{2}\\right)}$"
      ],
      "text/plain": [
       "Eq(R_{02}, 4*r_{+}*r_{-}*(r**4 - r**2*r_{+}**2 - r**2*r_{-}**2 + r_{+}**2*r_{-}**2)/(l**3*(r**4 - r**2*r_{+}**2 - r**2*r_{-}**2 + 4*r_{+}**2*r_{-}**2)))"
      ]
     },
     "metadata": {},
     "output_type": "display_data"
    },
    {
     "data": {
      "text/latex": [
       "$\\displaystyle R_{11} = \\frac{r^{2} \\left(- 2 r^{8} + 4 r^{6} r_{+}^{2} + 4 r^{6} r_{-}^{2} - 2 r^{4} r_{+}^{4} - 26 r^{4} r_{+}^{2} r_{-}^{2} - 2 r^{4} r_{-}^{4} + 22 r^{2} r_{+}^{4} r_{-}^{2} + 22 r^{2} r_{+}^{2} r_{-}^{4} - 3 r_{+}^{6} r_{-}^{2} - 14 r_{+}^{4} r_{-}^{4} - 3 r_{+}^{2} r_{-}^{6}\\right)}{r^{12} - 3 r^{10} r_{+}^{2} - 3 r^{10} r_{-}^{2} + 3 r^{8} r_{+}^{4} + 15 r^{8} r_{+}^{2} r_{-}^{2} + 3 r^{8} r_{-}^{4} - r^{6} r_{+}^{6} - 21 r^{6} r_{+}^{4} r_{-}^{2} - 21 r^{6} r_{+}^{2} r_{-}^{4} - r^{6} r_{-}^{6} + 9 r^{4} r_{+}^{6} r_{-}^{2} + 42 r^{4} r_{+}^{4} r_{-}^{4} + 9 r^{4} r_{+}^{2} r_{-}^{6} - 24 r^{2} r_{+}^{6} r_{-}^{4} - 24 r^{2} r_{+}^{4} r_{-}^{6} + 16 r_{+}^{6} r_{-}^{6}}$"
      ],
      "text/plain": [
       "Eq(R_{11}, r**2*(-2*r**8 + 4*r**6*r_{+}**2 + 4*r**6*r_{-}**2 - 2*r**4*r_{+}**4 - 26*r**4*r_{+}**2*r_{-}**2 - 2*r**4*r_{-}**4 + 22*r**2*r_{+}**4*r_{-}**2 + 22*r**2*r_{+}**2*r_{-}**4 - 3*r_{+}**6*r_{-}**2 - 14*r_{+}**4*r_{-}**4 - 3*r_{+}**2*r_{-}**6)/(r**12 - 3*r**10*r_{+}**2 - 3*r**10*r_{-}**2 + 3*r**8*r_{+}**4 + 15*r**8*r_{+}**2*r_{-}**2 + 3*r**8*r_{-}**4 - r**6*r_{+}**6 - 21*r**6*r_{+}**4*r_{-}**2 - 21*r**6*r_{+}**2*r_{-}**4 - r**6*r_{-}**6 + 9*r**4*r_{+}**6*r_{-}**2 + 42*r**4*r_{+}**4*r_{-}**4 + 9*r**4*r_{+}**2*r_{-}**6 - 24*r**2*r_{+}**6*r_{-}**4 - 24*r**2*r_{+}**4*r_{-}**6 + 16*r_{+}**6*r_{-}**6))"
      ]
     },
     "metadata": {},
     "output_type": "display_data"
    },
    {
     "data": {
      "text/latex": [
       "$\\displaystyle R_{20} = \\frac{4 r_{+} r_{-} \\left(r^{4} - r^{2} r_{+}^{2} - r^{2} r_{-}^{2} + r_{+}^{2} r_{-}^{2}\\right)}{l^{3} \\left(r^{4} - r^{2} r_{+}^{2} - r^{2} r_{-}^{2} + 4 r_{+}^{2} r_{-}^{2}\\right)}$"
      ],
      "text/plain": [
       "Eq(R_{20}, 4*r_{+}*r_{-}*(r**4 - r**2*r_{+}**2 - r**2*r_{-}**2 + r_{+}**2*r_{-}**2)/(l**3*(r**4 - r**2*r_{+}**2 - r**2*r_{-}**2 + 4*r_{+}**2*r_{-}**2)))"
      ]
     },
     "metadata": {},
     "output_type": "display_data"
    },
    {
     "data": {
      "text/latex": [
       "$\\displaystyle R_{22} = \\frac{- 2 r^{6} + 2 r^{4} r_{+}^{2} + 2 r^{4} r_{-}^{2} - 8 r^{2} r_{+}^{2} r_{-}^{2} + 3 r_{+}^{4} r_{-}^{2} + 3 r_{+}^{2} r_{-}^{4}}{l^{2} \\left(r^{4} - r^{2} r_{+}^{2} - r^{2} r_{-}^{2} + 4 r_{+}^{2} r_{-}^{2}\\right)}$"
      ],
      "text/plain": [
       "Eq(R_{22}, (-2*r**6 + 2*r**4*r_{+}**2 + 2*r**4*r_{-}**2 - 8*r**2*r_{+}**2*r_{-}**2 + 3*r_{+}**4*r_{-}**2 + 3*r_{+}**2*r_{-}**4)/(l**2*(r**4 - r**2*r_{+}**2 - r**2*r_{-}**2 + 4*r_{+}**2*r_{-}**2)))"
      ]
     },
     "metadata": {},
     "output_type": "display_data"
    },
    {
     "name": "stdout",
     "output_type": "stream",
     "text": [
      "\n",
      "Number of non-zero components: 5\n"
     ]
    }
   ],
   "source": [
    "counter = 0\n",
    "for i in range(n):\n",
    "    for j in range(n):\n",
    "        ricci_component = ricci_tensor_computing(i,j)\n",
    "        if ricci_component != 0:\n",
    "            Ricci_symbol = sp.Symbol(f'R_{{{i}{j}}}')\n",
    "            display(sp.Eq(Ricci_symbol,sp.simplify(ricci_component)))\n",
    "            counter += 1\n",
    "print(f'\\nNumber of non-zero components: {counter}')"
   ]
  },
  {
   "cell_type": "markdown",
   "id": "3d34f2ef-3ac0-4871-a996-a1868a019d7e",
   "metadata": {},
   "source": [
    "## Ricci scalar $R$"
   ]
  },
  {
   "cell_type": "code",
   "execution_count": 37,
   "id": "243d7b09-43b7-445d-87f9-3b050502fe03",
   "metadata": {},
   "outputs": [],
   "source": [
    "def ricci_scalar_computing():\n",
    "    index = lambda i,j: i*n + j\n",
    "    sum = 0\n",
    "    for mu in range(n):\n",
    "        for nu in range(n):\n",
    "            sum = sum + g_inverse[index(mu,nu)]*ricci_tensor_computing(mu,nu)\n",
    "    return sum"
   ]
  },
  {
   "cell_type": "code",
   "execution_count": 40,
   "id": "4f7de30b-bea1-4b33-b403-f5c906c6f6a8",
   "metadata": {},
   "outputs": [
    {
     "data": {
      "text/latex": [
       "$\\displaystyle \\frac{6 \\left(- r^{8} + 2 r^{6} r_{+}^{2} + 2 r^{6} r_{-}^{2} - r^{4} r_{+}^{4} - 11 r^{4} r_{+}^{2} r_{-}^{2} - r^{4} r_{-}^{4} + 9 r^{2} r_{+}^{4} r_{-}^{2} + 9 r^{2} r_{+}^{2} r_{-}^{4} - r_{+}^{6} r_{-}^{2} - 6 r_{+}^{4} r_{-}^{4} - r_{+}^{2} r_{-}^{6}\\right)}{l^{2} \\left(r^{8} - 2 r^{6} r_{+}^{2} - 2 r^{6} r_{-}^{2} + r^{4} r_{+}^{4} + 10 r^{4} r_{+}^{2} r_{-}^{2} + r^{4} r_{-}^{4} - 8 r^{2} r_{+}^{4} r_{-}^{2} - 8 r^{2} r_{+}^{2} r_{-}^{4} + 16 r_{+}^{4} r_{-}^{4}\\right)}$"
      ],
      "text/plain": [
       "6*(-r**8 + 2*r**6*r_{+}**2 + 2*r**6*r_{-}**2 - r**4*r_{+}**4 - 11*r**4*r_{+}**2*r_{-}**2 - r**4*r_{-}**4 + 9*r**2*r_{+}**4*r_{-}**2 + 9*r**2*r_{+}**2*r_{-}**4 - r_{+}**6*r_{-}**2 - 6*r_{+}**4*r_{-}**4 - r_{+}**2*r_{-}**6)/(l**2*(r**8 - 2*r**6*r_{+}**2 - 2*r**6*r_{-}**2 + r**4*r_{+}**4 + 10*r**4*r_{+}**2*r_{-}**2 + r**4*r_{-}**4 - 8*r**2*r_{+}**4*r_{-}**2 - 8*r**2*r_{+}**2*r_{-}**4 + 16*r_{+}**4*r_{-}**4))"
      ]
     },
     "execution_count": 40,
     "metadata": {},
     "output_type": "execute_result"
    }
   ],
   "source": [
    "sp.simplify(ricci_scalar_computing())"
   ]
  },
  {
   "cell_type": "markdown",
   "id": "dea570b2-3722-423a-80f1-32260990fe5a",
   "metadata": {},
   "source": [
    "## Kretschmann scalar"
   ]
  },
  {
   "cell_type": "code",
   "execution_count": 47,
   "id": "669e4935-f8b1-4567-890e-332038eb76ad",
   "metadata": {},
   "outputs": [],
   "source": [
    "def kretschmann_scalar_computing():\n",
    "    sum = 0\n",
    "    for i in range(n):\n",
    "        for j in range(n):\n",
    "            for k in range(n):\n",
    "                for l in range(n):\n",
    "                    Riemann_covariant = riemann_tensor_computing(i,j,k,l)\n",
    "                    Riemann_contravariant = riemann_tensor_computing(i,j,k,l)\n",
    "                    sum = sum + Riemann_covariant*Riemann_contravariant\n",
    "    return sum"
   ]
  },
  {
   "cell_type": "code",
   "execution_count": 50,
   "id": "b275d40a-3cee-497b-ba48-372d878dedb8",
   "metadata": {},
   "outputs": [
    {
     "data": {
      "text/latex": [
       "$\\displaystyle \\frac{2 \\left(4 l^{10} r^{4} r_{+}^{2} r_{-}^{2} \\left(r^{2} \\left(r^{2} - r_{+}^{2}\\right)^{2} \\left(r^{2} - r_{-}^{2}\\right)^{2} \\left(- 2 r^{2} + r_{+}^{2} + r_{-}^{2}\\right) + \\left(r^{2} - r_{+}^{2}\\right)^{2} \\left(r^{2} - r_{-}^{2}\\right)^{2} \\left(r^{4} - r^{2} r_{+}^{2} - r^{2} r_{-}^{2} + 4 r_{+}^{2} r_{-}^{2}\\right) + \\left(r^{2} \\left(r^{2} - r_{+}^{2}\\right) + r^{2} \\left(r^{2} - r_{-}^{2}\\right) - \\left(r^{2} - r_{+}^{2}\\right) \\left(r^{2} - r_{-}^{2}\\right)\\right) \\left(r^{4} - r^{2} r_{+}^{2} - r^{2} r_{-}^{2} + r_{+}^{2} r_{-}^{2}\\right) \\left(r^{4} - r^{2} r_{+}^{2} - r^{2} r_{-}^{2} + 4 r_{+}^{2} r_{-}^{2}\\right)\\right)^{2} + l^{8} r^{8} \\left(\\left(r^{2} - r_{+}^{2}\\right)^{2} \\left(r^{2} - r_{-}^{2}\\right)^{2} \\left(r^{4} + 2 r^{2} \\left(- 2 r^{2} + r_{+}^{2} + r_{-}^{2}\\right) - 4 r_{+}^{2} r_{-}^{2}\\right) + 3 \\left(r^{2} - r_{+}^{2}\\right)^{2} \\left(r^{2} - r_{-}^{2}\\right)^{2} \\left(r^{4} - r^{2} r_{+}^{2} - r^{2} r_{-}^{2} + 4 r_{+}^{2} r_{-}^{2}\\right) + \\left(r^{2} \\left(r^{2} - r_{+}^{2}\\right) + r^{2} \\left(r^{2} - r_{-}^{2}\\right) - \\left(r^{2} - r_{+}^{2}\\right) \\left(r^{2} - r_{-}^{2}\\right)\\right) \\left(r^{4} - r^{2} r_{+}^{2} - r^{2} r_{-}^{2} + r_{+}^{2} r_{-}^{2}\\right) \\left(r^{4} - r^{2} r_{+}^{2} - r^{2} r_{-}^{2} + 4 r_{+}^{2} r_{-}^{2}\\right)\\right)^{2} + l^{8} r^{4} \\left(r^{2} \\left(r^{2} - r_{+}^{2}\\right)^{2} \\left(r^{2} - r_{-}^{2}\\right)^{2} \\left(4 r_{+}^{2} r_{-}^{2} + 2 \\left(- 2 r^{2} + r_{+}^{2} + r_{-}^{2}\\right) \\left(- r^{2} + r_{+}^{2} + r_{-}^{2}\\right) - \\left(- r^{2} + r_{+}^{2} + r_{-}^{2}\\right)^{2}\\right) + \\left(r^{2} - r_{+}^{2}\\right)^{2} \\left(r^{2} - r_{-}^{2}\\right)^{2} \\left(- 3 r^{2} + r_{+}^{2} + r_{-}^{2}\\right) \\left(r^{4} - r^{2} r_{+}^{2} - r^{2} r_{-}^{2} + 4 r_{+}^{2} r_{-}^{2}\\right) + \\left(- r^{2} + r_{+}^{2} + r_{-}^{2}\\right) \\left(r^{2} \\left(r^{2} - r_{+}^{2}\\right) + r^{2} \\left(r^{2} - r_{-}^{2}\\right) - \\left(r^{2} - r_{+}^{2}\\right) \\left(r^{2} - r_{-}^{2}\\right)\\right) \\left(r^{4} - r^{2} r_{+}^{2} - r^{2} r_{-}^{2} + r_{+}^{2} r_{-}^{2}\\right) \\left(r^{4} - r^{2} r_{+}^{2} - r^{2} r_{-}^{2} + 4 r_{+}^{2} r_{-}^{2}\\right)\\right)^{2} + 4 l^{6} r^{4} r_{+}^{2} r_{-}^{2} \\left(r^{2} \\left(r^{2} - r_{+}^{2}\\right)^{2} \\left(r^{2} - r_{-}^{2}\\right)^{2} \\left(- 2 r^{2} + r_{+}^{2} + r_{-}^{2}\\right) + \\left(r^{2} - r_{+}^{2}\\right)^{2} \\left(r^{2} - r_{-}^{2}\\right)^{2} \\left(r^{4} - r^{2} r_{+}^{2} - r^{2} r_{-}^{2} + 4 r_{+}^{2} r_{-}^{2}\\right) + \\left(r^{2} \\left(r^{2} - r_{+}^{2}\\right) + r^{2} \\left(r^{2} - r_{-}^{2}\\right) - \\left(r^{2} - r_{+}^{2}\\right) \\left(r^{2} - r_{-}^{2}\\right)\\right) \\left(r^{4} - r^{2} r_{+}^{2} - r^{2} r_{-}^{2} + r_{+}^{2} r_{-}^{2}\\right) \\left(r^{4} - r^{2} r_{+}^{2} - r^{2} r_{-}^{2} + 4 r_{+}^{2} r_{-}^{2}\\right)\\right)^{2} + l^{4} r^{8} \\left(r^{2} - r_{+}^{2}\\right)^{4} \\left(r^{2} - r_{-}^{2}\\right)^{4} \\left(r^{4} - r^{2} r_{+}^{2} - r^{2} r_{-}^{2} + r_{+}^{2} r_{-}^{2}\\right)^{2} \\left(r^{4} - r^{2} r_{+}^{2} - r^{2} r_{-}^{2} + 4 r_{+}^{2} r_{-}^{2}\\right)^{2} + l^{4} \\left(r^{4} - r^{2} r_{+}^{2} - r^{2} r_{-}^{2} + 4 r_{+}^{2} r_{-}^{2}\\right)^{2} \\left(2 r^{2} \\left(r^{2} - r_{+}^{2}\\right)^{2} \\left(r^{2} - r_{-}^{2}\\right)^{2} \\left(- 2 r^{2} + r_{+}^{2} + r_{-}^{2}\\right) \\left(r^{4} - r^{2} r_{+}^{2} - r^{2} r_{-}^{2} + 4 r_{+}^{2} r_{-}^{2}\\right) - r^{2} \\left(r^{2} - r_{+}^{2}\\right)^{2} \\left(r^{2} - r_{-}^{2}\\right)^{2} \\left(- r^{2} + r_{+}^{2} + r_{-}^{2}\\right) \\left(r^{4} - r^{2} r_{+}^{2} - r^{2} r_{-}^{2} + r_{+}^{2} r_{-}^{2}\\right) + \\left(r^{2} - r_{+}^{2}\\right)^{2} \\left(r^{2} - r_{-}^{2}\\right)^{2} \\left(r^{4} - r^{2} r_{+}^{2} - r^{2} r_{-}^{2} + r_{+}^{2} r_{-}^{2}\\right) \\left(r^{4} - r^{2} r_{+}^{2} - r^{2} r_{-}^{2} + 4 r_{+}^{2} r_{-}^{2}\\right) + \\left(r^{2} \\left(r^{2} - r_{+}^{2}\\right) + r^{2} \\left(r^{2} - r_{-}^{2}\\right) - \\left(r^{2} - r_{+}^{2}\\right) \\left(r^{2} - r_{-}^{2}\\right)\\right) \\left(r^{4} - r^{2} r_{+}^{2} - r^{2} r_{-}^{2} + r_{+}^{2} r_{-}^{2}\\right)^{2} \\left(r^{4} - r^{2} r_{+}^{2} - r^{2} r_{-}^{2} + 4 r_{+}^{2} r_{-}^{2}\\right)\\right)^{2} + 16 l^{2} r^{4} r_{+}^{2} r_{-}^{2} \\left(r^{2} - r_{+}^{2}\\right)^{4} \\left(r^{2} - r_{-}^{2}\\right)^{4} \\left(r^{4} - r^{2} r_{+}^{2} - r^{2} r_{-}^{2} + r_{+}^{2} r_{-}^{2}\\right)^{2} \\left(r^{4} - r^{2} r_{+}^{2} - r^{2} r_{-}^{2} + 4 r_{+}^{2} r_{-}^{2}\\right)^{2} + r^{4} \\left(r^{2} - r_{+}^{2}\\right)^{4} \\left(r^{2} - r_{-}^{2}\\right)^{4} \\left(- r^{2} + r_{+}^{2} + r_{-}^{2}\\right)^{2} \\left(r^{4} - r^{2} r_{+}^{2} - r^{2} r_{-}^{2} + r_{+}^{2} r_{-}^{2}\\right)^{2} \\left(r^{4} - r^{2} r_{+}^{2} - r^{2} r_{-}^{2} + 4 r_{+}^{2} r_{-}^{2}\\right)^{2} + \\left(r^{4} - r^{2} r_{+}^{2} - r^{2} r_{-}^{2} + 4 r_{+}^{2} r_{-}^{2}\\right)^{2} \\left(r^{4} \\left(r^{2} - r_{+}^{2}\\right)^{2} \\left(r^{2} - r_{-}^{2}\\right)^{2} \\left(r^{4} - r^{2} r_{+}^{2} - r^{2} r_{-}^{2} + r_{+}^{2} r_{-}^{2}\\right) + 2 r^{2} \\left(r^{2} - r_{+}^{2}\\right)^{2} \\left(r^{2} - r_{-}^{2}\\right)^{2} \\left(- 2 r^{2} + r_{+}^{2} + r_{-}^{2}\\right) \\left(r^{4} - r^{2} r_{+}^{2} - r^{2} r_{-}^{2} + 4 r_{+}^{2} r_{-}^{2}\\right) + \\left(r^{2} - r_{+}^{2}\\right)^{2} \\left(r^{2} - r_{-}^{2}\\right)^{2} \\left(r^{4} - r^{2} r_{+}^{2} - r^{2} r_{-}^{2} + r_{+}^{2} r_{-}^{2}\\right) \\left(r^{4} - r^{2} r_{+}^{2} - r^{2} r_{-}^{2} + 4 r_{+}^{2} r_{-}^{2}\\right) + \\left(r^{2} \\left(r^{2} - r_{+}^{2}\\right) + r^{2} \\left(r^{2} - r_{-}^{2}\\right) - \\left(r^{2} - r_{+}^{2}\\right) \\left(r^{2} - r_{-}^{2}\\right)\\right) \\left(r^{4} - r^{2} r_{+}^{2} - r^{2} r_{-}^{2} + r_{+}^{2} r_{-}^{2}\\right)^{2} \\left(r^{4} - r^{2} r_{+}^{2} - r^{2} r_{-}^{2} + 4 r_{+}^{2} r_{-}^{2}\\right)\\right)^{2}\\right)}{l^{8} r^{4} \\left(r^{2} - r_{+}^{2}\\right)^{4} \\left(r^{2} - r_{-}^{2}\\right)^{4} \\left(r^{4} - r^{2} r_{+}^{2} - r^{2} r_{-}^{2} + 4 r_{+}^{2} r_{-}^{2}\\right)^{4}}$"
      ],
      "text/plain": [
       "2*(4*l**10*r**4*r_{+}**2*r_{-}**2*(r**2*(r**2 - r_{+}**2)**2*(r**2 - r_{-}**2)**2*(-2*r**2 + r_{+}**2 + r_{-}**2) + (r**2 - r_{+}**2)**2*(r**2 - r_{-}**2)**2*(r**4 - r**2*r_{+}**2 - r**2*r_{-}**2 + 4*r_{+}**2*r_{-}**2) + (r**2*(r**2 - r_{+}**2) + r**2*(r**2 - r_{-}**2) - (r**2 - r_{+}**2)*(r**2 - r_{-}**2))*(r**4 - r**2*r_{+}**2 - r**2*r_{-}**2 + r_{+}**2*r_{-}**2)*(r**4 - r**2*r_{+}**2 - r**2*r_{-}**2 + 4*r_{+}**2*r_{-}**2))**2 + l**8*r**8*((r**2 - r_{+}**2)**2*(r**2 - r_{-}**2)**2*(r**4 + 2*r**2*(-2*r**2 + r_{+}**2 + r_{-}**2) - 4*r_{+}**2*r_{-}**2) + 3*(r**2 - r_{+}**2)**2*(r**2 - r_{-}**2)**2*(r**4 - r**2*r_{+}**2 - r**2*r_{-}**2 + 4*r_{+}**2*r_{-}**2) + (r**2*(r**2 - r_{+}**2) + r**2*(r**2 - r_{-}**2) - (r**2 - r_{+}**2)*(r**2 - r_{-}**2))*(r**4 - r**2*r_{+}**2 - r**2*r_{-}**2 + r_{+}**2*r_{-}**2)*(r**4 - r**2*r_{+}**2 - r**2*r_{-}**2 + 4*r_{+}**2*r_{-}**2))**2 + l**8*r**4*(r**2*(r**2 - r_{+}**2)**2*(r**2 - r_{-}**2)**2*(4*r_{+}**2*r_{-}**2 + 2*(-2*r**2 + r_{+}**2 + r_{-}**2)*(-r**2 + r_{+}**2 + r_{-}**2) - (-r**2 + r_{+}**2 + r_{-}**2)**2) + (r**2 - r_{+}**2)**2*(r**2 - r_{-}**2)**2*(-3*r**2 + r_{+}**2 + r_{-}**2)*(r**4 - r**2*r_{+}**2 - r**2*r_{-}**2 + 4*r_{+}**2*r_{-}**2) + (-r**2 + r_{+}**2 + r_{-}**2)*(r**2*(r**2 - r_{+}**2) + r**2*(r**2 - r_{-}**2) - (r**2 - r_{+}**2)*(r**2 - r_{-}**2))*(r**4 - r**2*r_{+}**2 - r**2*r_{-}**2 + r_{+}**2*r_{-}**2)*(r**4 - r**2*r_{+}**2 - r**2*r_{-}**2 + 4*r_{+}**2*r_{-}**2))**2 + 4*l**6*r**4*r_{+}**2*r_{-}**2*(r**2*(r**2 - r_{+}**2)**2*(r**2 - r_{-}**2)**2*(-2*r**2 + r_{+}**2 + r_{-}**2) + (r**2 - r_{+}**2)**2*(r**2 - r_{-}**2)**2*(r**4 - r**2*r_{+}**2 - r**2*r_{-}**2 + 4*r_{+}**2*r_{-}**2) + (r**2*(r**2 - r_{+}**2) + r**2*(r**2 - r_{-}**2) - (r**2 - r_{+}**2)*(r**2 - r_{-}**2))*(r**4 - r**2*r_{+}**2 - r**2*r_{-}**2 + r_{+}**2*r_{-}**2)*(r**4 - r**2*r_{+}**2 - r**2*r_{-}**2 + 4*r_{+}**2*r_{-}**2))**2 + l**4*r**8*(r**2 - r_{+}**2)**4*(r**2 - r_{-}**2)**4*(r**4 - r**2*r_{+}**2 - r**2*r_{-}**2 + r_{+}**2*r_{-}**2)**2*(r**4 - r**2*r_{+}**2 - r**2*r_{-}**2 + 4*r_{+}**2*r_{-}**2)**2 + l**4*(r**4 - r**2*r_{+}**2 - r**2*r_{-}**2 + 4*r_{+}**2*r_{-}**2)**2*(2*r**2*(r**2 - r_{+}**2)**2*(r**2 - r_{-}**2)**2*(-2*r**2 + r_{+}**2 + r_{-}**2)*(r**4 - r**2*r_{+}**2 - r**2*r_{-}**2 + 4*r_{+}**2*r_{-}**2) - r**2*(r**2 - r_{+}**2)**2*(r**2 - r_{-}**2)**2*(-r**2 + r_{+}**2 + r_{-}**2)*(r**4 - r**2*r_{+}**2 - r**2*r_{-}**2 + r_{+}**2*r_{-}**2) + (r**2 - r_{+}**2)**2*(r**2 - r_{-}**2)**2*(r**4 - r**2*r_{+}**2 - r**2*r_{-}**2 + r_{+}**2*r_{-}**2)*(r**4 - r**2*r_{+}**2 - r**2*r_{-}**2 + 4*r_{+}**2*r_{-}**2) + (r**2*(r**2 - r_{+}**2) + r**2*(r**2 - r_{-}**2) - (r**2 - r_{+}**2)*(r**2 - r_{-}**2))*(r**4 - r**2*r_{+}**2 - r**2*r_{-}**2 + r_{+}**2*r_{-}**2)**2*(r**4 - r**2*r_{+}**2 - r**2*r_{-}**2 + 4*r_{+}**2*r_{-}**2))**2 + 16*l**2*r**4*r_{+}**2*r_{-}**2*(r**2 - r_{+}**2)**4*(r**2 - r_{-}**2)**4*(r**4 - r**2*r_{+}**2 - r**2*r_{-}**2 + r_{+}**2*r_{-}**2)**2*(r**4 - r**2*r_{+}**2 - r**2*r_{-}**2 + 4*r_{+}**2*r_{-}**2)**2 + r**4*(r**2 - r_{+}**2)**4*(r**2 - r_{-}**2)**4*(-r**2 + r_{+}**2 + r_{-}**2)**2*(r**4 - r**2*r_{+}**2 - r**2*r_{-}**2 + r_{+}**2*r_{-}**2)**2*(r**4 - r**2*r_{+}**2 - r**2*r_{-}**2 + 4*r_{+}**2*r_{-}**2)**2 + (r**4 - r**2*r_{+}**2 - r**2*r_{-}**2 + 4*r_{+}**2*r_{-}**2)**2*(r**4*(r**2 - r_{+}**2)**2*(r**2 - r_{-}**2)**2*(r**4 - r**2*r_{+}**2 - r**2*r_{-}**2 + r_{+}**2*r_{-}**2) + 2*r**2*(r**2 - r_{+}**2)**2*(r**2 - r_{-}**2)**2*(-2*r**2 + r_{+}**2 + r_{-}**2)*(r**4 - r**2*r_{+}**2 - r**2*r_{-}**2 + 4*r_{+}**2*r_{-}**2) + (r**2 - r_{+}**2)**2*(r**2 - r_{-}**2)**2*(r**4 - r**2*r_{+}**2 - r**2*r_{-}**2 + r_{+}**2*r_{-}**2)*(r**4 - r**2*r_{+}**2 - r**2*r_{-}**2 + 4*r_{+}**2*r_{-}**2) + (r**2*(r**2 - r_{+}**2) + r**2*(r**2 - r_{-}**2) - (r**2 - r_{+}**2)*(r**2 - r_{-}**2))*(r**4 - r**2*r_{+}**2 - r**2*r_{-}**2 + r_{+}**2*r_{-}**2)**2*(r**4 - r**2*r_{+}**2 - r**2*r_{-}**2 + 4*r_{+}**2*r_{-}**2))**2)/(l**8*r**4*(r**2 - r_{+}**2)**4*(r**2 - r_{-}**2)**4*(r**4 - r**2*r_{+}**2 - r**2*r_{-}**2 + 4*r_{+}**2*r_{-}**2)**4)"
      ]
     },
     "execution_count": 50,
     "metadata": {},
     "output_type": "execute_result"
    }
   ],
   "source": [
    "sp.simplify(kretschmann_scalar_computing())"
   ]
  }
 ],
 "metadata": {
  "kernelspec": {
   "display_name": "Python 3 (ipykernel)",
   "language": "python",
   "name": "python3"
  },
  "language_info": {
   "codemirror_mode": {
    "name": "ipython",
    "version": 3
   },
   "file_extension": ".py",
   "mimetype": "text/x-python",
   "name": "python",
   "nbconvert_exporter": "python",
   "pygments_lexer": "ipython3",
   "version": "3.13.5"
  }
 },
 "nbformat": 4,
 "nbformat_minor": 5
}
