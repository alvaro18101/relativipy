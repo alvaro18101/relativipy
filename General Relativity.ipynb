{
 "cells": [
  {
   "cell_type": "code",
   "execution_count": 28,
   "id": "d4c9726a-fc04-425b-bfe5-7d15c73bc6af",
   "metadata": {},
   "outputs": [],
   "source": [
    "import sympy as sp\n",
    "from IPython.display import display"
   ]
  },
  {
   "cell_type": "code",
   "execution_count": 3,
   "id": "932e7f7a-93f6-4d52-9f08-903ac3ba81ed",
   "metadata": {},
   "outputs": [
    {
     "data": {
      "text/latex": [
       "$\\displaystyle x$"
      ],
      "text/plain": [
       "x"
      ]
     },
     "execution_count": 3,
     "metadata": {},
     "output_type": "execute_result"
    }
   ],
   "source": [
    "x = sp.Symbol('x')\n",
    "expression = 2*(x/2)**2\n",
    "a = sp.diff(expression, x)\n",
    "a"
   ]
  },
  {
   "cell_type": "markdown",
   "id": "35977e68-1ae9-4685-bc78-b2c4cbd770ad",
   "metadata": {},
   "source": [
    "Metric"
   ]
  },
  {
   "cell_type": "code",
   "execution_count": 4,
   "id": "84d63805-c8cc-45a7-88ba-a75b7032d740",
   "metadata": {},
   "outputs": [
    {
     "name": "stdin",
     "output_type": "stream",
     "text": [
      "Enter the coordinate 0 t\n",
      "Enter the coordinate 1 r\n",
      "Enter the coordinate 2 \\theta\n",
      "Enter the coordinate 3 \\phi\n"
     ]
    },
    {
     "data": {
      "text/latex": [
       "$\\displaystyle \\left[\\begin{matrix}t & r & \\theta & \\phi\\end{matrix}\\right]$"
      ],
      "text/plain": [
       "Matrix([[t, r, \\theta, \\phi]])"
      ]
     },
     "execution_count": 4,
     "metadata": {},
     "output_type": "execute_result"
    }
   ],
   "source": [
    "n = 4\n",
    "coordinates = []\n",
    "for i in range(n):\n",
    "    coordinate = sp.Symbol(input(f'Enter the coordinate {i}'))\n",
    "    coordinates.append(coordinate)\n",
    "coordinates_sym = sp.Matrix([coordinates])\n",
    "coordinates_sym"
   ]
  },
  {
   "cell_type": "code",
   "execution_count": 5,
   "id": "0b7f8a99-2a4d-42b4-8a63-42eee2f2d047",
   "metadata": {},
   "outputs": [],
   "source": [
    "n = 4\n",
    "t = sp.Symbol('t')\n",
    "r = sp.Symbol('r')\n",
    "theta = sp.Symbol('\\\\theta')\n",
    "phi = sp.Symbol('\\\\phi')"
   ]
  },
  {
   "cell_type": "code",
   "execution_count": 66,
   "id": "07ff6c44-af00-43d2-8910-f29200d7bd9e",
   "metadata": {
    "collapsed": true,
    "jupyter": {
     "outputs_hidden": true,
     "source_hidden": true
    }
   },
   "outputs": [
    {
     "name": "stdout",
     "output_type": "stream",
     "text": [
      "[2, 10]\n"
     ]
    },
    {
     "data": {
      "text/plain": [
       "12"
      ]
     },
     "execution_count": 66,
     "metadata": {},
     "output_type": "execute_result"
    }
   ],
   "source": [
    "# No run\n",
    "symbol = '-x^2/(x+2)^3'\n",
    "array = ['+', '-', '*', '/', '^', 'sin', 'cos', 'tan', 'ctg', 'sec', 'csc']\n",
    "if set(symbol) & set(array):\n",
    "    # Power\n",
    "    if '^' in symbol:\n",
    "        # Find the indexs\n",
    "        power_indexs = []\n",
    "        for i in range(len(symbol)):\n",
    "            if symbol[i] == '^':\n",
    "                power_indexs.append(i)\n",
    "                for j in range(len(symbol.count('^'))):\n",
    "                    if (symbol[power_indexs[j]+1] != '('):\n",
    "                        exponent = symbol[power_indexs[j]+1]\n",
    "        \n",
    "else:\n",
    "    symbol = sp.Symbol(symbol)\n",
    "print(power_indexs)"
   ]
  },
  {
   "cell_type": "code",
   "execution_count": 136,
   "id": "8ac3b187-322c-42eb-a08f-8712cf84de48",
   "metadata": {
    "jupyter": {
     "source_hidden": true
    }
   },
   "outputs": [
    {
     "name": "stdin",
     "output_type": "stream",
     "text": [
      "Enter the component g_00:  -r\n",
      "Enter the component g_01:  0\n",
      "Enter the component g_10:  0\n",
      "Enter the component g_11:  r\n"
     ]
    },
    {
     "data": {
      "text/latex": [
       "$\\displaystyle \\left[\\begin{matrix}- r & 0\\\\0 & r\\end{matrix}\\right]$"
      ],
      "text/plain": [
       "Matrix([\n",
       "[-r, 0],\n",
       "[ 0, r]])"
      ]
     },
     "execution_count": 136,
     "metadata": {},
     "output_type": "execute_result"
    }
   ],
   "source": [
    "# No run\n",
    "is_symmetrical = True\n",
    "g = []\n",
    "for i in range(n):\n",
    "    g_row = []\n",
    "    for j in range(n):\n",
    "        g_ij = input(f'Enter the component g_{i}{j}: ')\n",
    "        try:\n",
    "            float(g_ij)\n",
    "            is_number = True\n",
    "        except:\n",
    "            is_number = False\n",
    "        if (is_number == False):\n",
    "            if '-' in g_ij:\n",
    "                g_ij = -sp.Symbol(g_ij.replace('-',''))\n",
    "            \n",
    "            else:\n",
    "                g_ij = sp.Symbol(g_ij)\n",
    "        g_row.append(g_ij)\n",
    "    g.append(g_row)\n",
    "g\n",
    "g_sym = sp.Matrix(g)\n",
    "g_sym"
   ]
  },
  {
   "cell_type": "code",
   "execution_count": 6,
   "id": "81d1a59a-0a7f-40ca-803a-4167b3e9a4d2",
   "metadata": {},
   "outputs": [
    {
     "data": {
      "text/latex": [
       "$\\displaystyle \\left[\\begin{matrix}- f{\\left(r \\right)} & 0 & 0 & 0\\\\0 & \\frac{1}{f{\\left(r \\right)}} & 0 & 0\\\\0 & 0 & r^{2} & 0\\\\0 & 0 & 0 & r^{2} \\sin^{2}{\\left(\\theta \\right)}\\end{matrix}\\right]$"
      ],
      "text/plain": [
       "Matrix([\n",
       "[-f(r),      0,    0,                   0],\n",
       "[    0, 1/f(r),    0,                   0],\n",
       "[    0,      0, r**2,                   0],\n",
       "[    0,      0,    0, r**2*sin(\\theta)**2]])"
      ]
     },
     "execution_count": 6,
     "metadata": {},
     "output_type": "execute_result"
    }
   ],
   "source": [
    "f = sp.Function('f')(r)\n",
    "g = [[-f, 0, 0, 0],\n",
    "    [0, 1/f, 0, 0],\n",
    "    [0, 0, r**2, 0],\n",
    "    [0, 0, 0, r**2*sp.sin(theta)**2]]\n",
    "g_sym = sp.Matrix(g)\n",
    "g_sym"
   ]
  },
  {
   "cell_type": "code",
   "execution_count": 7,
   "id": "01939bdc-0959-4a05-a4cc-797142c12571",
   "metadata": {},
   "outputs": [
    {
     "data": {
      "text/latex": [
       "$\\displaystyle \\left[\\begin{matrix}- \\frac{1}{f{\\left(r \\right)}} & 0 & 0 & 0\\\\0 & f{\\left(r \\right)} & 0 & 0\\\\0 & 0 & \\frac{1}{r^{2}} & 0\\\\0 & 0 & 0 & \\frac{1}{r^{2} \\sin^{2}{\\left(\\theta \\right)}}\\end{matrix}\\right]$"
      ],
      "text/plain": [
       "Matrix([\n",
       "[-1/f(r),    0,       0,                       0],\n",
       "[      0, f(r),       0,                       0],\n",
       "[      0,    0, r**(-2),                       0],\n",
       "[      0,    0,       0, 1/(r**2*sin(\\theta)**2)]])"
      ]
     },
     "execution_count": 7,
     "metadata": {},
     "output_type": "execute_result"
    }
   ],
   "source": [
    "g_inverse = g_sym.inv()\n",
    "g_inverse"
   ]
  },
  {
   "cell_type": "markdown",
   "id": "df32dc11-d1e4-468e-a61d-d1d514b7aba1",
   "metadata": {},
   "source": [
    "Computing of Christofell symbols"
   ]
  },
  {
   "cell_type": "code",
   "execution_count": 15,
   "id": "e22bdb57-e4b0-45fd-ae51-621889da0862",
   "metadata": {},
   "outputs": [
    {
     "data": {
      "text/latex": [
       "$\\displaystyle \\Gamma^1_{01} =  \\frac12 g^{1\\sigma} \\left(- \\frac{d}{d x^{\\sigma}} g_{01} + \\frac{d}{d r} g_{0\\sigma} + \\frac{d}{d t} g_{1\\sigma}\\right)$"
      ],
      "text/plain": [
       "\\Gamma^1_{01} =  \\frac12*g^{1\\sigma}*(-Derivative(g_{01}, x^\\sigma) + Derivative(g_{0\\sigma}, r) + Derivative(g_{1\\sigma}, t))"
      ]
     },
     "execution_count": 15,
     "metadata": {},
     "output_type": "execute_result"
    }
   ],
   "source": [
    "def christoffel_symbol(lmbd,mu,nu):\n",
    "    g_component = lambda nu, sigma: sp.Symbol(f'g_{{{nu}{sigma}}}')\n",
    "    g_component_up = lambda nu, sigma: sp.Symbol(f'g^{{{nu}{sigma}}}')\n",
    "    christoffel_component_1 = lambda mu, nu: sp.Derivative(g_component(nu, sp.Symbol('\\\\sigma')), coordinates_sym[mu])\n",
    "    christoffel_component_2 = lambda mu, nu: sp.Derivative(g_component(mu, sp.Symbol('\\\\sigma')), coordinates_sym[nu])\n",
    "    christoffel_component_3 = lambda mu, nu: sp.Derivative(g_component(mu, nu), sp.Symbol('x^\\\\sigma'))\n",
    "    return sp.Symbol(f'\\\\Gamma^{lmbd}_{{{mu}{nu}}} =  \\\\frac{1}{2}')*g_component_up(lmbd, sp.Symbol('\\\\sigma'))*(christoffel_component_1(mu,nu) + christoffel_component_2(mu,nu) - christoffel_component_3(mu,nu))\n",
    "christoffel_symbol(1,0,1)"
   ]
  },
  {
   "cell_type": "code",
   "execution_count": 12,
   "id": "6a847cfe-4897-4eb1-8dbc-f82eeccb4b06",
   "metadata": {},
   "outputs": [],
   "source": [
    "def christoffel_symbol_computing(lmbd,mu,nu):\n",
    "    index = lambda i,j: i*n + j\n",
    "    sum = 0\n",
    "    for i in range(n):\n",
    "        sum = sum + g_inverse[index(lmbd,i)]*( sp.diff(g_sym[index(nu,i)], coordinates_sym[mu]) + sp.diff(g_sym[index(mu,i)], coordinates_sym[nu]) - sp.diff(g_sym[index(mu,nu)], coordinates_sym[i]) )/2\n",
    "    return sum"
   ]
  },
  {
   "cell_type": "code",
   "execution_count": 109,
   "id": "83965ee1-a874-4466-8884-cdad17801137",
   "metadata": {},
   "outputs": [
    {
     "data": {
      "text/latex": [
       "$\\displaystyle \\Gamma^0_{01} = \\frac{\\frac{d}{d r} f{\\left(r \\right)}}{2 f{\\left(r \\right)}}$"
      ],
      "text/plain": [
       "Eq(\\Gamma^0_{01}, Derivative(f(r), r)/(2*f(r)))"
      ]
     },
     "metadata": {},
     "output_type": "display_data"
    },
    {
     "data": {
      "text/latex": [
       "$\\displaystyle \\Gamma^0_{10} = \\frac{\\frac{d}{d r} f{\\left(r \\right)}}{2 f{\\left(r \\right)}}$"
      ],
      "text/plain": [
       "Eq(\\Gamma^0_{10}, Derivative(f(r), r)/(2*f(r)))"
      ]
     },
     "metadata": {},
     "output_type": "display_data"
    },
    {
     "data": {
      "text/latex": [
       "$\\displaystyle \\Gamma^1_{00} = \\frac{f{\\left(r \\right)} \\frac{d}{d r} f{\\left(r \\right)}}{2}$"
      ],
      "text/plain": [
       "Eq(\\Gamma^1_{00}, f(r)*Derivative(f(r), r)/2)"
      ]
     },
     "metadata": {},
     "output_type": "display_data"
    },
    {
     "data": {
      "text/latex": [
       "$\\displaystyle \\Gamma^1_{11} = - \\frac{\\frac{d}{d r} f{\\left(r \\right)}}{2 f{\\left(r \\right)}}$"
      ],
      "text/plain": [
       "Eq(\\Gamma^1_{11}, -Derivative(f(r), r)/(2*f(r)))"
      ]
     },
     "metadata": {},
     "output_type": "display_data"
    },
    {
     "data": {
      "text/latex": [
       "$\\displaystyle \\Gamma^1_{22} = - r f{\\left(r \\right)}$"
      ],
      "text/plain": [
       "Eq(\\Gamma^1_{22}, -r*f(r))"
      ]
     },
     "metadata": {},
     "output_type": "display_data"
    },
    {
     "data": {
      "text/latex": [
       "$\\displaystyle \\Gamma^1_{33} = - r f{\\left(r \\right)} \\sin^{2}{\\left(\\theta \\right)}$"
      ],
      "text/plain": [
       "Eq(\\Gamma^1_{33}, -r*f(r)*sin(\\theta)**2)"
      ]
     },
     "metadata": {},
     "output_type": "display_data"
    },
    {
     "data": {
      "text/latex": [
       "$\\displaystyle \\Gamma^2_{12} = \\frac{1}{r}$"
      ],
      "text/plain": [
       "Eq(\\Gamma^2_{12}, 1/r)"
      ]
     },
     "metadata": {},
     "output_type": "display_data"
    },
    {
     "data": {
      "text/latex": [
       "$\\displaystyle \\Gamma^2_{21} = \\frac{1}{r}$"
      ],
      "text/plain": [
       "Eq(\\Gamma^2_{21}, 1/r)"
      ]
     },
     "metadata": {},
     "output_type": "display_data"
    },
    {
     "data": {
      "text/latex": [
       "$\\displaystyle \\Gamma^2_{33} = - \\sin{\\left(\\theta \\right)} \\cos{\\left(\\theta \\right)}$"
      ],
      "text/plain": [
       "Eq(\\Gamma^2_{33}, -sin(\\theta)*cos(\\theta))"
      ]
     },
     "metadata": {},
     "output_type": "display_data"
    },
    {
     "data": {
      "text/latex": [
       "$\\displaystyle \\Gamma^3_{13} = \\frac{1}{r}$"
      ],
      "text/plain": [
       "Eq(\\Gamma^3_{13}, 1/r)"
      ]
     },
     "metadata": {},
     "output_type": "display_data"
    },
    {
     "data": {
      "text/latex": [
       "$\\displaystyle \\Gamma^3_{23} = \\frac{\\cos{\\left(\\theta \\right)}}{\\sin{\\left(\\theta \\right)}}$"
      ],
      "text/plain": [
       "Eq(\\Gamma^3_{23}, cos(\\theta)/sin(\\theta))"
      ]
     },
     "metadata": {},
     "output_type": "display_data"
    },
    {
     "data": {
      "text/latex": [
       "$\\displaystyle \\Gamma^3_{31} = \\frac{1}{r}$"
      ],
      "text/plain": [
       "Eq(\\Gamma^3_{31}, 1/r)"
      ]
     },
     "metadata": {},
     "output_type": "display_data"
    },
    {
     "data": {
      "text/latex": [
       "$\\displaystyle \\Gamma^3_{32} = \\frac{\\cos{\\left(\\theta \\right)}}{\\sin{\\left(\\theta \\right)}}$"
      ],
      "text/plain": [
       "Eq(\\Gamma^3_{32}, cos(\\theta)/sin(\\theta))"
      ]
     },
     "metadata": {},
     "output_type": "display_data"
    }
   ],
   "source": [
    "for i in range(n):\n",
    "    for j in range(n):\n",
    "        for k in range(n):\n",
    "            christoffel_component = christoffel_symbol_computing(i,j,k)\n",
    "            if christoffel_component != 0:\n",
    "                gamma = sp.Symbol(f'\\\\Gamma^{i}_{{{j}{k}}}')\n",
    "                display(sp.Eq(sp.Symbol(f'\\\\Gamma^{i}_{{{j}{k}}}'), christoffel_component))"
   ]
  },
  {
   "cell_type": "markdown",
   "id": "8baccd47-8dee-414c-b958-11b399e1a0b8",
   "metadata": {},
   "source": [
    "Computing of Riemann tensor $R^{\\mu}_{\\nu\\rho\\sigma}$"
   ]
  },
  {
   "cell_type": "code",
   "execution_count": 97,
   "id": "5e139d3a-d115-422d-88d3-328309c6cede",
   "metadata": {},
   "outputs": [],
   "source": [
    "def riemann_tensor_computing(mu, nu, rho, sigma):\n",
    "    riemann_tensor_1 = sp.diff(christoffel_symbol_computing(mu,nu,sigma), coordinates_sym[rho])\n",
    "    riemann_tensor_2 = sp.diff(christoffel_symbol_computing(mu,nu,rho), coordinates_sym[sigma])\n",
    "    riemann_tensor_3 = 0\n",
    "    for lmbd in range(n):\n",
    "        riemann_tensor_3 = riemann_tensor_3 + christoffel_symbol_computing(mu,rho,lmbd)*christoffel_symbol_computing(lmbd,nu,sigma)\n",
    "    riemann_tensor_4 = 0\n",
    "    for lmbd in range(n):\n",
    "        riemann_tensor_4 = riemann_tensor_4 + christoffel_symbol_computing(mu,sigma,lmbd)*christoffel_symbol_computing(lmbd,nu,rho)\n",
    "    return riemann_tensor_1 - riemann_tensor_2 + riemann_tensor_3 - riemann_tensor_4"
   ]
  },
  {
   "cell_type": "code",
   "execution_count": 110,
   "id": "6d949d7f-2ced-4934-b39a-4fb63228c9d0",
   "metadata": {},
   "outputs": [
    {
     "data": {
      "text/latex": [
       "$\\displaystyle R^0_{101} = - \\frac{\\frac{d^{2}}{d r^{2}} f{\\left(r \\right)}}{2 f{\\left(r \\right)}}$"
      ],
      "text/plain": [
       "Eq(R^0_{101}, -Derivative(f(r), (r, 2))/(2*f(r)))"
      ]
     },
     "metadata": {},
     "output_type": "display_data"
    },
    {
     "data": {
      "text/latex": [
       "$\\displaystyle R^0_{110} = \\frac{\\frac{d^{2}}{d r^{2}} f{\\left(r \\right)}}{2 f{\\left(r \\right)}}$"
      ],
      "text/plain": [
       "Eq(R^0_{110}, Derivative(f(r), (r, 2))/(2*f(r)))"
      ]
     },
     "metadata": {},
     "output_type": "display_data"
    },
    {
     "data": {
      "text/latex": [
       "$\\displaystyle R^0_{202} = - \\frac{r \\frac{d}{d r} f{\\left(r \\right)}}{2}$"
      ],
      "text/plain": [
       "Eq(R^0_{202}, -r*Derivative(f(r), r)/2)"
      ]
     },
     "metadata": {},
     "output_type": "display_data"
    },
    {
     "data": {
      "text/latex": [
       "$\\displaystyle R^0_{220} = \\frac{r \\frac{d}{d r} f{\\left(r \\right)}}{2}$"
      ],
      "text/plain": [
       "Eq(R^0_{220}, r*Derivative(f(r), r)/2)"
      ]
     },
     "metadata": {},
     "output_type": "display_data"
    },
    {
     "data": {
      "text/latex": [
       "$\\displaystyle R^0_{303} = - \\frac{r \\sin^{2}{\\left(\\theta \\right)} \\frac{d}{d r} f{\\left(r \\right)}}{2}$"
      ],
      "text/plain": [
       "Eq(R^0_{303}, -r*sin(\\theta)**2*Derivative(f(r), r)/2)"
      ]
     },
     "metadata": {},
     "output_type": "display_data"
    },
    {
     "data": {
      "text/latex": [
       "$\\displaystyle R^0_{330} = \\frac{r \\sin^{2}{\\left(\\theta \\right)} \\frac{d}{d r} f{\\left(r \\right)}}{2}$"
      ],
      "text/plain": [
       "Eq(R^0_{330}, r*sin(\\theta)**2*Derivative(f(r), r)/2)"
      ]
     },
     "metadata": {},
     "output_type": "display_data"
    },
    {
     "data": {
      "text/latex": [
       "$\\displaystyle R^1_{001} = - \\frac{f{\\left(r \\right)} \\frac{d^{2}}{d r^{2}} f{\\left(r \\right)}}{2}$"
      ],
      "text/plain": [
       "Eq(R^1_{001}, -f(r)*Derivative(f(r), (r, 2))/2)"
      ]
     },
     "metadata": {},
     "output_type": "display_data"
    },
    {
     "data": {
      "text/latex": [
       "$\\displaystyle R^1_{010} = \\frac{f{\\left(r \\right)} \\frac{d^{2}}{d r^{2}} f{\\left(r \\right)}}{2}$"
      ],
      "text/plain": [
       "Eq(R^1_{010}, f(r)*Derivative(f(r), (r, 2))/2)"
      ]
     },
     "metadata": {},
     "output_type": "display_data"
    },
    {
     "data": {
      "text/latex": [
       "$\\displaystyle R^1_{212} = - \\frac{r \\frac{d}{d r} f{\\left(r \\right)}}{2}$"
      ],
      "text/plain": [
       "Eq(R^1_{212}, -r*Derivative(f(r), r)/2)"
      ]
     },
     "metadata": {},
     "output_type": "display_data"
    },
    {
     "data": {
      "text/latex": [
       "$\\displaystyle R^1_{221} = \\frac{r \\frac{d}{d r} f{\\left(r \\right)}}{2}$"
      ],
      "text/plain": [
       "Eq(R^1_{221}, r*Derivative(f(r), r)/2)"
      ]
     },
     "metadata": {},
     "output_type": "display_data"
    },
    {
     "data": {
      "text/latex": [
       "$\\displaystyle R^1_{313} = - \\frac{r \\sin^{2}{\\left(\\theta \\right)} \\frac{d}{d r} f{\\left(r \\right)}}{2}$"
      ],
      "text/plain": [
       "Eq(R^1_{313}, -r*sin(\\theta)**2*Derivative(f(r), r)/2)"
      ]
     },
     "metadata": {},
     "output_type": "display_data"
    },
    {
     "data": {
      "text/latex": [
       "$\\displaystyle R^1_{331} = \\frac{r \\sin^{2}{\\left(\\theta \\right)} \\frac{d}{d r} f{\\left(r \\right)}}{2}$"
      ],
      "text/plain": [
       "Eq(R^1_{331}, r*sin(\\theta)**2*Derivative(f(r), r)/2)"
      ]
     },
     "metadata": {},
     "output_type": "display_data"
    },
    {
     "data": {
      "text/latex": [
       "$\\displaystyle R^2_{002} = - \\frac{f{\\left(r \\right)} \\frac{d}{d r} f{\\left(r \\right)}}{2 r}$"
      ],
      "text/plain": [
       "Eq(R^2_{002}, -f(r)*Derivative(f(r), r)/(2*r))"
      ]
     },
     "metadata": {},
     "output_type": "display_data"
    },
    {
     "data": {
      "text/latex": [
       "$\\displaystyle R^2_{020} = \\frac{f{\\left(r \\right)} \\frac{d}{d r} f{\\left(r \\right)}}{2 r}$"
      ],
      "text/plain": [
       "Eq(R^2_{020}, f(r)*Derivative(f(r), r)/(2*r))"
      ]
     },
     "metadata": {},
     "output_type": "display_data"
    },
    {
     "data": {
      "text/latex": [
       "$\\displaystyle R^2_{112} = \\frac{\\frac{d}{d r} f{\\left(r \\right)}}{2 r f{\\left(r \\right)}}$"
      ],
      "text/plain": [
       "Eq(R^2_{112}, Derivative(f(r), r)/(2*r*f(r)))"
      ]
     },
     "metadata": {},
     "output_type": "display_data"
    },
    {
     "data": {
      "text/latex": [
       "$\\displaystyle R^2_{121} = - \\frac{\\frac{d}{d r} f{\\left(r \\right)}}{2 r f{\\left(r \\right)}}$"
      ],
      "text/plain": [
       "Eq(R^2_{121}, -Derivative(f(r), r)/(2*r*f(r)))"
      ]
     },
     "metadata": {},
     "output_type": "display_data"
    },
    {
     "data": {
      "text/latex": [
       "$\\displaystyle R^2_{323} = - f{\\left(r \\right)} \\sin^{2}{\\left(\\theta \\right)} + \\sin^{2}{\\left(\\theta \\right)}$"
      ],
      "text/plain": [
       "Eq(R^2_{323}, -f(r)*sin(\\theta)**2 + sin(\\theta)**2)"
      ]
     },
     "metadata": {},
     "output_type": "display_data"
    },
    {
     "data": {
      "text/latex": [
       "$\\displaystyle R^2_{332} = f{\\left(r \\right)} \\sin^{2}{\\left(\\theta \\right)} - \\sin^{2}{\\left(\\theta \\right)}$"
      ],
      "text/plain": [
       "Eq(R^2_{332}, f(r)*sin(\\theta)**2 - sin(\\theta)**2)"
      ]
     },
     "metadata": {},
     "output_type": "display_data"
    },
    {
     "data": {
      "text/latex": [
       "$\\displaystyle R^3_{003} = - \\frac{f{\\left(r \\right)} \\frac{d}{d r} f{\\left(r \\right)}}{2 r}$"
      ],
      "text/plain": [
       "Eq(R^3_{003}, -f(r)*Derivative(f(r), r)/(2*r))"
      ]
     },
     "metadata": {},
     "output_type": "display_data"
    },
    {
     "data": {
      "text/latex": [
       "$\\displaystyle R^3_{030} = \\frac{f{\\left(r \\right)} \\frac{d}{d r} f{\\left(r \\right)}}{2 r}$"
      ],
      "text/plain": [
       "Eq(R^3_{030}, f(r)*Derivative(f(r), r)/(2*r))"
      ]
     },
     "metadata": {},
     "output_type": "display_data"
    },
    {
     "data": {
      "text/latex": [
       "$\\displaystyle R^3_{113} = \\frac{\\frac{d}{d r} f{\\left(r \\right)}}{2 r f{\\left(r \\right)}}$"
      ],
      "text/plain": [
       "Eq(R^3_{113}, Derivative(f(r), r)/(2*r*f(r)))"
      ]
     },
     "metadata": {},
     "output_type": "display_data"
    },
    {
     "data": {
      "text/latex": [
       "$\\displaystyle R^3_{131} = - \\frac{\\frac{d}{d r} f{\\left(r \\right)}}{2 r f{\\left(r \\right)}}$"
      ],
      "text/plain": [
       "Eq(R^3_{131}, -Derivative(f(r), r)/(2*r*f(r)))"
      ]
     },
     "metadata": {},
     "output_type": "display_data"
    },
    {
     "data": {
      "text/latex": [
       "$\\displaystyle R^3_{223} = f{\\left(r \\right)} - 1$"
      ],
      "text/plain": [
       "Eq(R^3_{223}, f(r) - 1)"
      ]
     },
     "metadata": {},
     "output_type": "display_data"
    },
    {
     "data": {
      "text/latex": [
       "$\\displaystyle R^3_{232} = 1 - f{\\left(r \\right)}$"
      ],
      "text/plain": [
       "Eq(R^3_{232}, 1 - f(r))"
      ]
     },
     "metadata": {},
     "output_type": "display_data"
    }
   ],
   "source": [
    "for i in range(n):\n",
    "    for j in range(n):\n",
    "        for k in range(n):\n",
    "            for l in range(n):\n",
    "                riemann_component = riemann_tensor_computing(i,j,k,l)\n",
    "                if riemann_component != 0:\n",
    "                    Riemann_symbol = sp.Symbol(f'R^{i}_{{{j}{k}{l}}}')\n",
    "                    display(sp.Eq(Riemann_symbol,riemann_component))"
   ]
  },
  {
   "cell_type": "code",
   "execution_count": null,
   "id": "e744e5c0-b25a-4edc-b5db-1be3b52941c7",
   "metadata": {},
   "outputs": [],
   "source": []
  }
 ],
 "metadata": {
  "kernelspec": {
   "display_name": "Python 3 (ipykernel)",
   "language": "python",
   "name": "python3"
  },
  "language_info": {
   "codemirror_mode": {
    "name": "ipython",
    "version": 3
   },
   "file_extension": ".py",
   "mimetype": "text/x-python",
   "name": "python",
   "nbconvert_exporter": "python",
   "pygments_lexer": "ipython3",
   "version": "3.13.5"
  }
 },
 "nbformat": 4,
 "nbformat_minor": 5
}
