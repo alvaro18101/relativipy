{
 "cells": [
  {
   "cell_type": "code",
   "execution_count": 1,
   "id": "d4c9726a-fc04-425b-bfe5-7d15c73bc6af",
   "metadata": {},
   "outputs": [],
   "source": [
    "import sympy as sp"
   ]
  },
  {
   "cell_type": "code",
   "execution_count": 243,
   "id": "932e7f7a-93f6-4d52-9f08-903ac3ba81ed",
   "metadata": {},
   "outputs": [
    {
     "data": {
      "text/latex": [
       "$\\displaystyle x$"
      ],
      "text/plain": [
       "x"
      ]
     },
     "execution_count": 243,
     "metadata": {},
     "output_type": "execute_result"
    }
   ],
   "source": [
    "x = sp.Symbol('x')\n",
    "expression = 2*(x/2)**2\n",
    "a = sp.diff(expression, x)\n",
    "a"
   ]
  },
  {
   "cell_type": "markdown",
   "id": "35977e68-1ae9-4685-bc78-b2c4cbd770ad",
   "metadata": {},
   "source": [
    "Metric"
   ]
  },
  {
   "cell_type": "code",
   "execution_count": 210,
   "id": "84d63805-c8cc-45a7-88ba-a75b7032d740",
   "metadata": {},
   "outputs": [
    {
     "name": "stdin",
     "output_type": "stream",
     "text": [
      "Enter the coordinate 0 t\n",
      "Enter the coordinate 1 r\n",
      "Enter the coordinate 2 \\theta\n",
      "Enter the coordinate 3 \\phi\n"
     ]
    },
    {
     "data": {
      "text/latex": [
       "$\\displaystyle \\left[\\begin{matrix}t & r & \\theta & \\phi\\end{matrix}\\right]$"
      ],
      "text/plain": [
       "Matrix([[t, r, \\theta, \\phi]])"
      ]
     },
     "execution_count": 210,
     "metadata": {},
     "output_type": "execute_result"
    }
   ],
   "source": [
    "n = 4\n",
    "coordinates = []\n",
    "for i in range(n):\n",
    "    coordinate = sp.Symbol(input(f'Enter the coordinate {i}'))\n",
    "    coordinates.append(coordinate)\n",
    "coordinates_sym = sp.Matrix([coordinates])\n",
    "coordinates_sym"
   ]
  },
  {
   "cell_type": "code",
   "execution_count": 229,
   "id": "8ac3b187-322c-42eb-a08f-8712cf84de48",
   "metadata": {},
   "outputs": [
    {
     "name": "stdin",
     "output_type": "stream",
     "text": [
      "Enter the component g_00:  -f(r)\n",
      "Enter the component g_01:  0\n",
      "Enter the component g_02:  0\n",
      "Enter the component g_03:  0\n",
      "Enter the component g_10:  0\n",
      "Enter the component g_11:  f(r)\n",
      "Enter the component g_12:  0\n",
      "Enter the component g_13:  0\n",
      "Enter the component g_20:  0\n",
      "Enter the component g_21:  0\n",
      "Enter the component g_22:  r^2\n",
      "Enter the component g_23:  0\n",
      "Enter the component g_30:  0\n",
      "Enter the component g_31:  0\n",
      "Enter the component g_32:  0\n",
      "Enter the component g_33:  r^{2}\\sin^{2}{\\theta}\n"
     ]
    },
    {
     "data": {
      "text/latex": [
       "$\\displaystyle \\left[\\begin{matrix}-f(r) & 0 & 0 & 0\\\\0 & f(r) & 0 & 0\\\\0 & 0 & r^{2} & 0\\\\0 & 0 & 0 & r^{2}\\sin^{2}{\\theta}\\end{matrix}\\right]$"
      ],
      "text/plain": [
       "Matrix([\n",
       "[-f(r),    0,   0,                     0],\n",
       "[    0, f(r),   0,                     0],\n",
       "[    0,    0, r^2,                     0],\n",
       "[    0,    0,   0, r^{2}\\sin^{2}{\\theta}]])"
      ]
     },
     "execution_count": 229,
     "metadata": {},
     "output_type": "execute_result"
    }
   ],
   "source": [
    "is_symmetrical = True\n",
    "g = []\n",
    "for i in range(n):\n",
    "    g_row = []\n",
    "    for j in range(n):\n",
    "        g_ij = input(f'Enter the component g_{i}{j}: ')\n",
    "        try:\n",
    "            float(g_ij)\n",
    "            is_number = True\n",
    "        except:\n",
    "            is_number = False\n",
    "        if (is_number == False):\n",
    "            g_ij = sp.Symbol(g_ij)\n",
    "        g_row.append(g_ij)\n",
    "    g.append(g_row)\n",
    "g\n",
    "g_sym = sp.Matrix(g)\n",
    "g_sym"
   ]
  },
  {
   "cell_type": "markdown",
   "id": "df32dc11-d1e4-468e-a61d-d1d514b7aba1",
   "metadata": {},
   "source": [
    "Computing of Christofell symbols"
   ]
  },
  {
   "cell_type": "code",
   "execution_count": 315,
   "id": "e22bdb57-e4b0-45fd-ae51-621889da0862",
   "metadata": {},
   "outputs": [
    {
     "data": {
      "text/latex": [
       "$\\displaystyle \\Gamma^1_{23} =  \\frac12 g^{1\\sigma} \\left(- \\frac{d}{d \\sigma} g_{23} + \\frac{d}{d \\phi} g_{3\\sigma} + \\frac{d}{d \\theta} g_{3\\sigma}\\right)$"
      ],
      "text/plain": [
       "\\Gamma^1_{23} =  \\frac12*g^{1\\sigma}*(-Derivative(g_{23}, \\sigma) + Derivative(g_{3\\sigma}, \\phi) + Derivative(g_{3\\sigma}, \\theta))"
      ]
     },
     "execution_count": 315,
     "metadata": {},
     "output_type": "execute_result"
    }
   ],
   "source": [
    "def christoffel_symbol(lmbd,mu,nu):\n",
    "    index = mu\n",
    "    g_component = lambda nu, sigma: sp.Symbol(f'g_{{{nu}{sigma}}}')\n",
    "    g_component_up = lambda nu, sigma: sp.Symbol(f'g^{{{nu}{sigma}}}')\n",
    "    christoffel_component_1 = lambda mu, nu: sp.Derivative(g_component(nu, sp.Symbol('\\\\sigma')), coordinates_sym[mu])\n",
    "    christoffel_component_2 = lambda mu, nu: sp.Derivative(g_component(nu, sp.Symbol('\\\\sigma')), coordinates_sym[nu])\n",
    "    christoffel_component_3 = lambda mu, nu: sp.Derivative(g_component(mu, nu), sp.Symbol('\\\\sigma'))\n",
    "    return sp.Symbol(f'\\\\Gamma^{lmbd}_{{{mu}{nu}}} =  \\\\frac{1}{2}')*g_component_up(lmbd, sp.Symbol('\\\\sigma'))*(christoffel_component_1(mu,nu) + christoffel_component_2(mu,nu) - christoffel_component_3(mu,nu))\n",
    "christoffel_symbol(1,2,3)"
   ]
  },
  {
   "cell_type": "code",
   "execution_count": null,
   "id": "f8afac00-f73c-492b-a997-9bf477524560",
   "metadata": {},
   "outputs": [],
   "source": [
    "Hacer una para los cálculos ahora sí (este solo era visual)"
   ]
  },
  {
   "cell_type": "code",
   "execution_count": 260,
   "id": "eeb2e881-e653-46cb-aad0-113a6c69d22c",
   "metadata": {},
   "outputs": [
    {
     "data": {
      "text/latex": [
       "$\\displaystyle \\frac{d}{d r} g_{30}$"
      ],
      "text/plain": [
       "Derivative(g_{30}, r)"
      ]
     },
     "execution_count": 260,
     "metadata": {},
     "output_type": "execute_result"
    }
   ],
   "source": [
    "christoffel_component = lambda mu, nu, sigma: sp.Derivative(sp.Symbol(f'({g_sym[nu + sigma]})'), coordinates_sym[mu])\n",
    "christoffel_component = lambda mu, nu, sigma: sp.Derivative(sp.Symbol(f'g_{{{nu}{sigma}}}'), coordinates_sym[mu])\n",
    "christoffel_component(1,3,0)"
   ]
  },
  {
   "cell_type": "code",
   "execution_count": 258,
   "id": "70bde780-cf5d-4813-9963-1f61228fd3a0",
   "metadata": {},
   "outputs": [
    {
     "data": {
      "text/latex": [
       "$\\displaystyle g_{μσ}$"
      ],
      "text/plain": [
       "g_{μσ}"
      ]
     },
     "execution_count": 258,
     "metadata": {},
     "output_type": "execute_result"
    }
   ],
   "source": [
    "nu = 'μ'\n",
    "sigma = 'σ'\n",
    "\n",
    "# Esto crea: g_{μσ}\n",
    "nombre = f\"g_{{{nu}{sigma}}}\"\n",
    "simbolo = sp.Symbol(nombre)\n",
    "\n",
    "simbolo  # g_{μσ}"
   ]
  }
 ],
 "metadata": {
  "kernelspec": {
   "display_name": "Python 3 (ipykernel)",
   "language": "python",
   "name": "python3"
  },
  "language_info": {
   "codemirror_mode": {
    "name": "ipython",
    "version": 3
   },
   "file_extension": ".py",
   "mimetype": "text/x-python",
   "name": "python",
   "nbconvert_exporter": "python",
   "pygments_lexer": "ipython3",
   "version": "3.13.5"
  }
 },
 "nbformat": 4,
 "nbformat_minor": 5
}
