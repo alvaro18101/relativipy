{
 "cells": [
  {
   "cell_type": "code",
   "execution_count": 1,
   "id": "d4c9726a-fc04-425b-bfe5-7d15c73bc6af",
   "metadata": {},
   "outputs": [],
   "source": [
    "import sympy as sp"
   ]
  },
  {
   "cell_type": "code",
   "execution_count": 243,
   "id": "932e7f7a-93f6-4d52-9f08-903ac3ba81ed",
   "metadata": {},
   "outputs": [
    {
     "data": {
      "text/latex": [
       "$\\displaystyle x$"
      ],
      "text/plain": [
       "x"
      ]
     },
     "execution_count": 243,
     "metadata": {},
     "output_type": "execute_result"
    }
   ],
   "source": [
    "x = sp.Symbol('x')\n",
    "expression = 2*(x/2)**2\n",
    "a = sp.diff(expression, x)\n",
    "a"
   ]
  },
  {
   "cell_type": "markdown",
   "id": "35977e68-1ae9-4685-bc78-b2c4cbd770ad",
   "metadata": {},
   "source": [
    "Metric"
   ]
  },
  {
   "cell_type": "code",
   "execution_count": 187,
   "id": "84d63805-c8cc-45a7-88ba-a75b7032d740",
   "metadata": {},
   "outputs": [
    {
     "name": "stdin",
     "output_type": "stream",
     "text": [
      "Enter the coordinate 0 t\n",
      "Enter the coordinate 1 r\n",
      "Enter the coordinate 2 \\theta\n",
      "Enter the coordinate 3 \\phi\n"
     ]
    },
    {
     "data": {
      "text/latex": [
       "$\\displaystyle \\left[\\begin{matrix}t & r & \\theta & \\phi\\end{matrix}\\right]$"
      ],
      "text/plain": [
       "Matrix([[t, r, \\theta, \\phi]])"
      ]
     },
     "execution_count": 187,
     "metadata": {},
     "output_type": "execute_result"
    }
   ],
   "source": [
    "n = 4\n",
    "coordinates = []\n",
    "for i in range(n):\n",
    "    coordinate = sp.Symbol(input(f'Enter the coordinate {i}'))\n",
    "    coordinates.append(coordinate)\n",
    "coordinates_sym = sp.Matrix([coordinates])\n",
    "coordinates_sym"
   ]
  },
  {
   "cell_type": "code",
   "execution_count": 181,
   "id": "0b7f8a99-2a4d-42b4-8a63-42eee2f2d047",
   "metadata": {},
   "outputs": [],
   "source": [
    "n = 4\n",
    "t = sp.Symbol('t')\n",
    "r = sp.Symbol('r')\n",
    "theta = sp.Symbol('\\\\theta')\n",
    "phi = sp.Symbol('\\\\phi')"
   ]
  },
  {
   "cell_type": "code",
   "execution_count": 66,
   "id": "07ff6c44-af00-43d2-8910-f29200d7bd9e",
   "metadata": {},
   "outputs": [
    {
     "name": "stdout",
     "output_type": "stream",
     "text": [
      "[2, 10]\n"
     ]
    },
    {
     "data": {
      "text/plain": [
       "12"
      ]
     },
     "execution_count": 66,
     "metadata": {},
     "output_type": "execute_result"
    }
   ],
   "source": [
    "symbol = '-x^2/(x+2)^3'\n",
    "array = ['+', '-', '*', '/', '^', 'sin', 'cos', 'tan', 'ctg', 'sec', 'csc']\n",
    "if set(symbol) & set(array):\n",
    "    # Power\n",
    "    if '^' in symbol:\n",
    "        # Find the indexs\n",
    "        power_indexs = []\n",
    "        for i in range(len(symbol)):\n",
    "            if symbol[i] == '^':\n",
    "                power_indexs.append(i)\n",
    "                for j in range(len(symbol.count('^'))):\n",
    "                    if (symbol[power_indexs[j]+1] != '('):\n",
    "                        exponent = symbol[power_indexs[j]+1]\n",
    "        \n",
    "else:\n",
    "    symbol = sp.Symbol(symbol)\n",
    "print(power_indexs)"
   ]
  },
  {
   "cell_type": "code",
   "execution_count": 136,
   "id": "8ac3b187-322c-42eb-a08f-8712cf84de48",
   "metadata": {},
   "outputs": [
    {
     "name": "stdin",
     "output_type": "stream",
     "text": [
      "Enter the component g_00:  -r\n",
      "Enter the component g_01:  0\n",
      "Enter the component g_10:  0\n",
      "Enter the component g_11:  r\n"
     ]
    },
    {
     "data": {
      "text/latex": [
       "$\\displaystyle \\left[\\begin{matrix}- r & 0\\\\0 & r\\end{matrix}\\right]$"
      ],
      "text/plain": [
       "Matrix([\n",
       "[-r, 0],\n",
       "[ 0, r]])"
      ]
     },
     "execution_count": 136,
     "metadata": {},
     "output_type": "execute_result"
    }
   ],
   "source": [
    "is_symmetrical = True\n",
    "g = []\n",
    "for i in range(n):\n",
    "    g_row = []\n",
    "    for j in range(n):\n",
    "        g_ij = input(f'Enter the component g_{i}{j}: ')\n",
    "        try:\n",
    "            float(g_ij)\n",
    "            is_number = True\n",
    "        except:\n",
    "            is_number = False\n",
    "        if (is_number == False):\n",
    "            if '-' in g_ij:\n",
    "                g_ij = -sp.Symbol(g_ij.replace('-',''))\n",
    "            \n",
    "            else:\n",
    "                g_ij = sp.Symbol(g_ij)\n",
    "        g_row.append(g_ij)\n",
    "    g.append(g_row)\n",
    "g\n",
    "g_sym = sp.Matrix(g)\n",
    "g_sym"
   ]
  },
  {
   "cell_type": "code",
   "execution_count": 199,
   "id": "81d1a59a-0a7f-40ca-803a-4167b3e9a4d2",
   "metadata": {},
   "outputs": [
    {
     "data": {
      "text/latex": [
       "$\\displaystyle \\left[\\begin{matrix}- f{\\left(r \\right)} & 0 & 0 & 0\\\\0 & \\frac{1}{f{\\left(r \\right)}} & 0 & 0\\\\0 & 0 & r^{2} & 0\\\\0 & 0 & 0 & r^{2} \\sin^{2}{\\left(\\theta \\right)}\\end{matrix}\\right]$"
      ],
      "text/plain": [
       "Matrix([\n",
       "[-f(r),      0,    0,                   0],\n",
       "[    0, 1/f(r),    0,                   0],\n",
       "[    0,      0, r**2,                   0],\n",
       "[    0,      0,    0, r**2*sin(\\theta)**2]])"
      ]
     },
     "execution_count": 199,
     "metadata": {},
     "output_type": "execute_result"
    }
   ],
   "source": [
    "f = sp.Function('f')(r)\n",
    "g = [[-f, 0, 0, 0],\n",
    "    [0, 1/f, 0, 0],\n",
    "    [0, 0, r**2, 0],\n",
    "    [0, 0, 0, r**2*sp.sin(theta)**2]]\n",
    "g_sym = sp.Matrix(g)\n",
    "g_sym"
   ]
  },
  {
   "cell_type": "code",
   "execution_count": 202,
   "id": "01939bdc-0959-4a05-a4cc-797142c12571",
   "metadata": {},
   "outputs": [
    {
     "data": {
      "text/latex": [
       "$\\displaystyle \\left[\\begin{matrix}- \\frac{1}{f{\\left(r \\right)}} & 0 & 0 & 0\\\\0 & f{\\left(r \\right)} & 0 & 0\\\\0 & 0 & \\frac{1}{r^{2}} & 0\\\\0 & 0 & 0 & \\frac{1}{r^{2} \\sin^{2}{\\left(\\theta \\right)}}\\end{matrix}\\right]$"
      ],
      "text/plain": [
       "Matrix([\n",
       "[-1/f(r),    0,       0,                       0],\n",
       "[      0, f(r),       0,                       0],\n",
       "[      0,    0, r**(-2),                       0],\n",
       "[      0,    0,       0, 1/(r**2*sin(\\theta)**2)]])"
      ]
     },
     "execution_count": 202,
     "metadata": {},
     "output_type": "execute_result"
    }
   ],
   "source": [
    "g_inverse = g_sym.inv()\n",
    "g_inverse"
   ]
  },
  {
   "cell_type": "markdown",
   "id": "df32dc11-d1e4-468e-a61d-d1d514b7aba1",
   "metadata": {},
   "source": [
    "Computing of Christofell symbols"
   ]
  },
  {
   "cell_type": "code",
   "execution_count": 183,
   "id": "e22bdb57-e4b0-45fd-ae51-621889da0862",
   "metadata": {},
   "outputs": [
    {
     "data": {
      "text/latex": [
       "$\\displaystyle \\Gamma^1_{01} =  \\frac12 g^{1\\sigma} \\left(- \\frac{d}{d x^{\\sigma}} g_{01} + \\frac{d}{d r} g_{0\\sigma} + \\frac{d}{d t} g_{1\\sigma}\\right)$"
      ],
      "text/plain": [
       "\\Gamma^1_{01} =  \\frac12*g^{1\\sigma}*(-Derivative(g_{01}, x^\\sigma) + Derivative(g_{0\\sigma}, r) + Derivative(g_{1\\sigma}, t))"
      ]
     },
     "execution_count": 183,
     "metadata": {},
     "output_type": "execute_result"
    }
   ],
   "source": [
    "def christoffel_symbol(lmbd,mu,nu):\n",
    "    g_component = lambda nu, sigma: sp.Symbol(f'g_{{{nu}{sigma}}}')\n",
    "    g_component_up = lambda nu, sigma: sp.Symbol(f'g^{{{nu}{sigma}}}')\n",
    "    christoffel_component_1 = lambda mu, nu: sp.Derivative(g_component(nu, sp.Symbol('\\\\sigma')), coordinates_sym[mu])\n",
    "    christoffel_component_2 = lambda mu, nu: sp.Derivative(g_component(mu, sp.Symbol('\\\\sigma')), coordinates_sym[nu])\n",
    "    christoffel_component_3 = lambda mu, nu: sp.Derivative(g_component(mu, nu), sp.Symbol('x^\\\\sigma'))\n",
    "    return sp.Symbol(f'\\\\Gamma^{lmbd}_{{{mu}{nu}}} =  \\\\frac{1}{2}')*g_component_up(lmbd, sp.Symbol('\\\\sigma'))*(christoffel_component_1(mu,nu) + christoffel_component_2(mu,nu) - christoffel_component_3(mu,nu))\n",
    "christoffel_symbol(1,0,1)"
   ]
  },
  {
   "cell_type": "code",
   "execution_count": 222,
   "id": "6a847cfe-4897-4eb1-8dbc-f82eeccb4b06",
   "metadata": {},
   "outputs": [],
   "source": [
    "def christoffel_symbol_computing(lmbd,mu,nu):\n",
    "    index = lambda i,j: i*n + j\n",
    "    sum = 0\n",
    "    for i in range(n):\n",
    "        sum = sum + g_inverse[index(lmbd,i)]*( sp.diff(g_sym[index(nu,i)], coordinates_sym[mu]) + sp.diff(g_sym[index(mu,i)], coordinates_sym[nu]) - sp.diff(g_sym[index(mu,nu)], coordinates_sym[i]) )/2\n",
    "    return sum"
   ]
  },
  {
   "cell_type": "code",
   "execution_count": 206,
   "id": "83965ee1-a874-4466-8884-cdad17801137",
   "metadata": {
    "scrolled": true
   },
   "outputs": [
    {
     "name": "stdout",
     "output_type": "stream",
     "text": [
      "0 0 0\n",
      "0\n",
      "\n",
      "0 0 1\n",
      "d       \n",
      "──(f(r))\n",
      "dr      \n",
      "────────\n",
      " 2⋅f(r) \n",
      "\n",
      "0 0 2\n",
      "0\n",
      "\n",
      "0 0 3\n",
      "0\n",
      "\n",
      "0 1 0\n",
      "d       \n",
      "──(f(r))\n",
      "dr      \n",
      "────────\n",
      " 2⋅f(r) \n",
      "\n",
      "0 1 1\n",
      "0\n",
      "\n",
      "0 1 2\n",
      "0\n",
      "\n",
      "0 1 3\n",
      "0\n",
      "\n",
      "0 2 0\n",
      "0\n",
      "\n",
      "0 2 1\n",
      "0\n",
      "\n",
      "0 2 2\n",
      "0\n",
      "\n",
      "0 2 3\n",
      "0\n",
      "\n",
      "0 3 0\n",
      "0\n",
      "\n",
      "0 3 1\n",
      "0\n",
      "\n",
      "0 3 2\n",
      "0\n",
      "\n",
      "0 3 3\n",
      "0\n",
      "\n",
      "1 0 0\n",
      "     d       \n",
      "f(r)⋅──(f(r))\n",
      "     dr      \n",
      "─────────────\n",
      "      2      \n",
      "\n",
      "1 0 1\n",
      "0\n",
      "\n",
      "1 0 2\n",
      "0\n",
      "\n",
      "1 0 3\n",
      "0\n",
      "\n",
      "1 1 0\n",
      "0\n",
      "\n",
      "1 1 1\n",
      " d        \n",
      "-──(f(r)) \n",
      " dr       \n",
      "──────────\n",
      "  2⋅f(r)  \n",
      "\n",
      "1 1 2\n",
      "0\n",
      "\n",
      "1 1 3\n",
      "0\n",
      "\n",
      "1 2 0\n",
      "0\n",
      "\n",
      "1 2 1\n",
      "0\n",
      "\n",
      "1 2 2\n",
      "-r⋅f(r)\n",
      "\n",
      "1 2 3\n",
      "0\n",
      "\n",
      "1 3 0\n",
      "0\n",
      "\n",
      "1 3 1\n",
      "0\n",
      "\n",
      "1 3 2\n",
      "0\n",
      "\n",
      "1 3 3\n",
      "           2        \n",
      "-r⋅f(r)⋅sin (\\theta)\n",
      "\n",
      "2 0 0\n",
      "0\n",
      "\n",
      "2 0 1\n",
      "0\n",
      "\n",
      "2 0 2\n",
      "0\n",
      "\n",
      "2 0 3\n",
      "0\n",
      "\n",
      "2 1 0\n",
      "0\n",
      "\n",
      "2 1 1\n",
      "0\n",
      "\n",
      "2 1 2\n",
      "1\n",
      "─\n",
      "r\n",
      "\n",
      "2 1 3\n",
      "0\n",
      "\n",
      "2 2 0\n",
      "0\n",
      "\n",
      "2 2 1\n",
      "1\n",
      "─\n",
      "r\n",
      "\n",
      "2 2 2\n",
      "0\n",
      "\n",
      "2 2 3\n",
      "0\n",
      "\n",
      "2 3 0\n",
      "0\n",
      "\n",
      "2 3 1\n",
      "0\n",
      "\n",
      "2 3 2\n",
      "0\n",
      "\n",
      "2 3 3\n",
      "-sin(\\theta)⋅cos(\\theta)\n",
      "\n",
      "3 0 0\n",
      "0\n",
      "\n",
      "3 0 1\n",
      "0\n",
      "\n",
      "3 0 2\n",
      "0\n",
      "\n",
      "3 0 3\n",
      "0\n",
      "\n",
      "3 1 0\n",
      "0\n",
      "\n",
      "3 1 1\n",
      "0\n",
      "\n",
      "3 1 2\n",
      "0\n",
      "\n",
      "3 1 3\n",
      "1\n",
      "─\n",
      "r\n",
      "\n",
      "3 2 0\n",
      "0\n",
      "\n",
      "3 2 1\n",
      "0\n",
      "\n",
      "3 2 2\n",
      "0\n",
      "\n",
      "3 2 3\n",
      "cos(\\theta)\n",
      "───────────\n",
      "sin(\\theta)\n",
      "\n",
      "3 3 0\n",
      "0\n",
      "\n",
      "3 3 1\n",
      "1\n",
      "─\n",
      "r\n",
      "\n",
      "3 3 2\n",
      "cos(\\theta)\n",
      "───────────\n",
      "sin(\\theta)\n",
      "\n",
      "3 3 3\n",
      "0\n",
      "\n"
     ]
    }
   ],
   "source": [
    "for i in range(n):\n",
    "    for j in range(n):\n",
    "        for k in range(n):\n",
    "            print(i,j,k)\n",
    "            sp.pprint(christoffel_symbol_computing(i,j,k))\n",
    "            print()"
   ]
  },
  {
   "cell_type": "code",
   "execution_count": 232,
   "id": "4f0acf03-a286-44fa-97eb-e3f9767ded89",
   "metadata": {},
   "outputs": [
    {
     "data": {
      "text/latex": [
       "$\\displaystyle - r f{\\left(r \\right)} \\sin^{2}{\\left(\\theta \\right)}$"
      ],
      "text/plain": [
       "-r*f(r)*sin(\\theta)**2"
      ]
     },
     "execution_count": 232,
     "metadata": {},
     "output_type": "execute_result"
    }
   ],
   "source": [
    "i = 1; j = 3; k = 3\n",
    "christoffel_symbol_computing(i,j,k)"
   ]
  },
  {
   "cell_type": "markdown",
   "id": "8baccd47-8dee-414c-b958-11b399e1a0b8",
   "metadata": {},
   "source": [
    "Computing of Riemann tensor $R^{\\mu}_{\\nu\\rho\\sigma}$"
   ]
  },
  {
   "cell_type": "code",
   "execution_count": 248,
   "id": "5e139d3a-d115-422d-88d3-328309c6cede",
   "metadata": {},
   "outputs": [
    {
     "data": {
      "text/latex": [
       "$\\displaystyle - \\frac{r \\frac{d}{d r} f{\\left(r \\right)}}{2}$"
      ],
      "text/plain": [
       "-r*Derivative(f(r), r)/2"
      ]
     },
     "execution_count": 248,
     "metadata": {},
     "output_type": "execute_result"
    }
   ],
   "source": [
    "def riemann_tensor_computing(mu, nu, rho, sigma):\n",
    "    riemann_tensor_1 = sp.diff(christoffel_symbol_computing(mu,nu,sigma), coordinates_sym[rho])\n",
    "    riemann_tensor_2 = sp.diff(christoffel_symbol_computing(mu,nu,rho), coordinates_sym[sigma])\n",
    "    riemann_tensor_3 = 0\n",
    "    for lmbd in range(n):\n",
    "        riemann_tensor_3 = riemann_tensor_3 + christoffel_symbol_computing(mu,rho,lmbd)*christoffel_symbol_computing(lmbd,nu,sigma)\n",
    "    riemann_tensor_4 = 0\n",
    "    for lmbd in range(n):\n",
    "        riemann_tensor_4 = riemann_tensor_4 + christoffel_symbol_computing(mu,sigma,lmbd)*christoffel_symbol_computing(lmbd,nu,rho)\n",
    "    return riemann_tensor_1 - riemann_tensor_2 + riemann_tensor_3 - riemann_tensor_4\n",
    "riemann_tensor_computing(0,2,0,2)"
   ]
  },
  {
   "cell_type": "code",
   "execution_count": 254,
   "id": "6d949d7f-2ced-4934-b39a-4fb63228c9d0",
   "metadata": {
    "scrolled": true
   },
   "outputs": [
    {
     "name": "stdout",
     "output_type": "stream",
     "text": [
      "0 1 0 1\n",
      "  2        \n",
      " d         \n",
      "-───(f(r)) \n",
      "   2       \n",
      " dr        \n",
      "───────────\n",
      "  2⋅f(r)   \n",
      "\n",
      "0 1 1 0\n",
      " 2       \n",
      "d        \n",
      "───(f(r))\n",
      "  2      \n",
      "dr       \n",
      "─────────\n",
      " 2⋅f(r)  \n",
      "\n",
      "0 2 0 2\n",
      "   d        \n",
      "-r⋅──(f(r)) \n",
      "   dr       \n",
      "────────────\n",
      "     2      \n",
      "\n",
      "0 2 2 0\n",
      "  d       \n",
      "r⋅──(f(r))\n",
      "  dr      \n",
      "──────────\n",
      "    2     \n",
      "\n",
      "0 3 0 3\n",
      "      2         d        \n",
      "-r⋅sin (\\theta)⋅──(f(r)) \n",
      "                dr       \n",
      "─────────────────────────\n",
      "            2            \n",
      "\n",
      "0 3 3 0\n",
      "     2         d       \n",
      "r⋅sin (\\theta)⋅──(f(r))\n",
      "               dr      \n",
      "───────────────────────\n",
      "           2           \n",
      "\n",
      "1 0 0 1\n",
      "       2        \n",
      "      d         \n",
      "-f(r)⋅───(f(r)) \n",
      "        2       \n",
      "      dr        \n",
      "────────────────\n",
      "       2        \n",
      "\n",
      "1 0 1 0\n",
      "      2       \n",
      "     d        \n",
      "f(r)⋅───(f(r))\n",
      "       2      \n",
      "     dr       \n",
      "──────────────\n",
      "      2       \n",
      "\n",
      "1 2 1 2\n",
      "   d        \n",
      "-r⋅──(f(r)) \n",
      "   dr       \n",
      "────────────\n",
      "     2      \n",
      "\n",
      "1 2 2 1\n",
      "  d       \n",
      "r⋅──(f(r))\n",
      "  dr      \n",
      "──────────\n",
      "    2     \n",
      "\n",
      "1 3 1 3\n",
      "      2         d        \n",
      "-r⋅sin (\\theta)⋅──(f(r)) \n",
      "                dr       \n",
      "─────────────────────────\n",
      "            2            \n",
      "\n",
      "1 3 3 1\n",
      "     2         d       \n",
      "r⋅sin (\\theta)⋅──(f(r))\n",
      "               dr      \n",
      "───────────────────────\n",
      "           2           \n",
      "\n",
      "2 0 0 2\n",
      "      d        \n",
      "-f(r)⋅──(f(r)) \n",
      "      dr       \n",
      "───────────────\n",
      "      2⋅r      \n",
      "\n",
      "2 0 2 0\n",
      "     d       \n",
      "f(r)⋅──(f(r))\n",
      "     dr      \n",
      "─────────────\n",
      "     2⋅r     \n",
      "\n",
      "2 1 1 2\n",
      "d       \n",
      "──(f(r))\n",
      "dr      \n",
      "────────\n",
      "2⋅r⋅f(r)\n",
      "\n",
      "2 1 2 1\n",
      " d        \n",
      "-──(f(r)) \n",
      " dr       \n",
      "──────────\n",
      " 2⋅r⋅f(r) \n",
      "\n",
      "2 3 2 3\n",
      "          2              2        \n",
      "- f(r)⋅sin (\\theta) + sin (\\theta)\n",
      "\n",
      "2 3 3 2\n",
      "        2              2        \n",
      "f(r)⋅sin (\\theta) - sin (\\theta)\n",
      "\n",
      "3 0 0 3\n",
      "      d        \n",
      "-f(r)⋅──(f(r)) \n",
      "      dr       \n",
      "───────────────\n",
      "      2⋅r      \n",
      "\n",
      "3 0 3 0\n",
      "     d       \n",
      "f(r)⋅──(f(r))\n",
      "     dr      \n",
      "─────────────\n",
      "     2⋅r     \n",
      "\n",
      "3 1 1 3\n",
      "d       \n",
      "──(f(r))\n",
      "dr      \n",
      "────────\n",
      "2⋅r⋅f(r)\n",
      "\n",
      "3 1 3 1\n",
      " d        \n",
      "-──(f(r)) \n",
      " dr       \n",
      "──────────\n",
      " 2⋅r⋅f(r) \n",
      "\n",
      "3 2 2 3\n",
      "f(r) - 1\n",
      "\n",
      "3 2 3 2\n",
      "1 - f(r)\n",
      "\n"
     ]
    }
   ],
   "source": [
    "for i in range(n):\n",
    "    for j in range(n):\n",
    "        for k in range(n):\n",
    "            for l in range(n):\n",
    "                riemann_component = riemann_tensor_computing(i,j,k,l)\n",
    "                if riemann_component != 0:\n",
    "                    print(i, j,k,l)\n",
    "                    sp.pprint(riemann_component)\n",
    "                    print()"
   ]
  },
  {
   "cell_type": "code",
   "execution_count": 256,
   "id": "e744e5c0-b25a-4edc-b5db-1be3b52941c7",
   "metadata": {},
   "outputs": [
    {
     "data": {
      "text/latex": [
       "$\\displaystyle - \\frac{r \\frac{d}{d r} f{\\left(r \\right)}}{2}$"
      ],
      "text/plain": [
       "-r*Derivative(f(r), r)/2"
      ]
     },
     "execution_count": 256,
     "metadata": {},
     "output_type": "execute_result"
    }
   ],
   "source": [
    "riemann_tensor_computing(0,2,0,2)"
   ]
  }
 ],
 "metadata": {
  "kernelspec": {
   "display_name": "Python 3 (ipykernel)",
   "language": "python",
   "name": "python3"
  },
  "language_info": {
   "codemirror_mode": {
    "name": "ipython",
    "version": 3
   },
   "file_extension": ".py",
   "mimetype": "text/x-python",
   "name": "python",
   "nbconvert_exporter": "python",
   "pygments_lexer": "ipython3",
   "version": "3.13.5"
  }
 },
 "nbformat": 4,
 "nbformat_minor": 5
}
